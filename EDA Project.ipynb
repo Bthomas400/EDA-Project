{
 "cells": [
  {
   "cell_type": "markdown",
   "id": "dddf8c38",
   "metadata": {},
   "source": [
    "## Exploratory Data Analysis- Project"
   ]
  },
  {
   "cell_type": "markdown",
   "id": "4621068a",
   "metadata": {},
   "source": [
    "## Introduction\n",
    "In this project we are working with data from Instacart grocery delivery platform.\n",
    "The goal is to clean up the data and prepare a report that gives insight into the shopping habits of Instacart customers."
   ]
  },
  {
   "cell_type": "markdown",
   "id": "9e2ecdaf",
   "metadata": {},
   "source": [
    "## Data Overview"
   ]
  },
  {
   "cell_type": "markdown",
   "id": "4f95cb87",
   "metadata": {},
   "source": [
    "Reading and obtaining first 5 rows of all datasets: "
   ]
  },
  {
   "cell_type": "code",
   "execution_count": 1,
   "id": "fbf1adab",
   "metadata": {},
   "outputs": [],
   "source": [
    "# importing pandas\n",
    "import pandas as pd \n",
    "\n",
    "#importing matplot\n",
    "import matplotlib.pyplot as plt"
   ]
  },
  {
   "cell_type": "code",
   "execution_count": 2,
   "id": "ad36396d",
   "metadata": {
    "scrolled": true
   },
   "outputs": [
    {
     "data": {
      "text/html": [
       "<div>\n",
       "<style scoped>\n",
       "    .dataframe tbody tr th:only-of-type {\n",
       "        vertical-align: middle;\n",
       "    }\n",
       "\n",
       "    .dataframe tbody tr th {\n",
       "        vertical-align: top;\n",
       "    }\n",
       "\n",
       "    .dataframe thead th {\n",
       "        text-align: right;\n",
       "    }\n",
       "</style>\n",
       "<table border=\"1\" class=\"dataframe\">\n",
       "  <thead>\n",
       "    <tr style=\"text-align: right;\">\n",
       "      <th></th>\n",
       "      <th>order_id</th>\n",
       "      <th>user_id</th>\n",
       "      <th>order_number</th>\n",
       "      <th>order_dow</th>\n",
       "      <th>order_hour_of_day</th>\n",
       "      <th>days_since_prior_order</th>\n",
       "    </tr>\n",
       "  </thead>\n",
       "  <tbody>\n",
       "    <tr>\n",
       "      <th>0</th>\n",
       "      <td>1515936</td>\n",
       "      <td>183418</td>\n",
       "      <td>11</td>\n",
       "      <td>6</td>\n",
       "      <td>13</td>\n",
       "      <td>30.0</td>\n",
       "    </tr>\n",
       "    <tr>\n",
       "      <th>1</th>\n",
       "      <td>1690866</td>\n",
       "      <td>163593</td>\n",
       "      <td>5</td>\n",
       "      <td>5</td>\n",
       "      <td>12</td>\n",
       "      <td>9.0</td>\n",
       "    </tr>\n",
       "    <tr>\n",
       "      <th>2</th>\n",
       "      <td>1454967</td>\n",
       "      <td>39980</td>\n",
       "      <td>4</td>\n",
       "      <td>5</td>\n",
       "      <td>19</td>\n",
       "      <td>2.0</td>\n",
       "    </tr>\n",
       "    <tr>\n",
       "      <th>3</th>\n",
       "      <td>1768857</td>\n",
       "      <td>82516</td>\n",
       "      <td>56</td>\n",
       "      <td>0</td>\n",
       "      <td>20</td>\n",
       "      <td>10.0</td>\n",
       "    </tr>\n",
       "    <tr>\n",
       "      <th>4</th>\n",
       "      <td>3007858</td>\n",
       "      <td>196724</td>\n",
       "      <td>2</td>\n",
       "      <td>4</td>\n",
       "      <td>12</td>\n",
       "      <td>17.0</td>\n",
       "    </tr>\n",
       "  </tbody>\n",
       "</table>\n",
       "</div>"
      ],
      "text/plain": [
       "   order_id  user_id  order_number  order_dow  order_hour_of_day  \\\n",
       "0   1515936   183418            11          6                 13   \n",
       "1   1690866   163593             5          5                 12   \n",
       "2   1454967    39980             4          5                 19   \n",
       "3   1768857    82516            56          0                 20   \n",
       "4   3007858   196724             2          4                 12   \n",
       "\n",
       "   days_since_prior_order  \n",
       "0                    30.0  \n",
       "1                     9.0  \n",
       "2                     2.0  \n",
       "3                    10.0  \n",
       "4                    17.0  "
      ]
     },
     "execution_count": 2,
     "metadata": {},
     "output_type": "execute_result"
    }
   ],
   "source": [
    "#reading and formatting the files \n",
    "instacart_orders_df= pd.read_csv('/datasets/instacart_orders.csv', sep=';')\n",
    "#obtaining first 5 rows\n",
    "instacart_orders_df.head()\n"
   ]
  },
  {
   "cell_type": "code",
   "execution_count": 3,
   "id": "ad6a1efa",
   "metadata": {},
   "outputs": [
    {
     "data": {
      "text/html": [
       "<div>\n",
       "<style scoped>\n",
       "    .dataframe tbody tr th:only-of-type {\n",
       "        vertical-align: middle;\n",
       "    }\n",
       "\n",
       "    .dataframe tbody tr th {\n",
       "        vertical-align: top;\n",
       "    }\n",
       "\n",
       "    .dataframe thead th {\n",
       "        text-align: right;\n",
       "    }\n",
       "</style>\n",
       "<table border=\"1\" class=\"dataframe\">\n",
       "  <thead>\n",
       "    <tr style=\"text-align: right;\">\n",
       "      <th></th>\n",
       "      <th>product_id</th>\n",
       "      <th>product_name</th>\n",
       "      <th>aisle_id</th>\n",
       "      <th>department_id</th>\n",
       "    </tr>\n",
       "  </thead>\n",
       "  <tbody>\n",
       "    <tr>\n",
       "      <th>0</th>\n",
       "      <td>1</td>\n",
       "      <td>Chocolate Sandwich Cookies</td>\n",
       "      <td>61</td>\n",
       "      <td>19</td>\n",
       "    </tr>\n",
       "    <tr>\n",
       "      <th>1</th>\n",
       "      <td>2</td>\n",
       "      <td>All-Seasons Salt</td>\n",
       "      <td>104</td>\n",
       "      <td>13</td>\n",
       "    </tr>\n",
       "    <tr>\n",
       "      <th>2</th>\n",
       "      <td>3</td>\n",
       "      <td>Robust Golden Unsweetened Oolong Tea</td>\n",
       "      <td>94</td>\n",
       "      <td>7</td>\n",
       "    </tr>\n",
       "    <tr>\n",
       "      <th>3</th>\n",
       "      <td>4</td>\n",
       "      <td>Smart Ones Classic Favorites Mini Rigatoni Wit...</td>\n",
       "      <td>38</td>\n",
       "      <td>1</td>\n",
       "    </tr>\n",
       "    <tr>\n",
       "      <th>4</th>\n",
       "      <td>5</td>\n",
       "      <td>Green Chile Anytime Sauce</td>\n",
       "      <td>5</td>\n",
       "      <td>13</td>\n",
       "    </tr>\n",
       "  </tbody>\n",
       "</table>\n",
       "</div>"
      ],
      "text/plain": [
       "   product_id                                       product_name  aisle_id  \\\n",
       "0           1                         Chocolate Sandwich Cookies        61   \n",
       "1           2                                   All-Seasons Salt       104   \n",
       "2           3               Robust Golden Unsweetened Oolong Tea        94   \n",
       "3           4  Smart Ones Classic Favorites Mini Rigatoni Wit...        38   \n",
       "4           5                          Green Chile Anytime Sauce         5   \n",
       "\n",
       "   department_id  \n",
       "0             19  \n",
       "1             13  \n",
       "2              7  \n",
       "3              1  \n",
       "4             13  "
      ]
     },
     "execution_count": 3,
     "metadata": {},
     "output_type": "execute_result"
    }
   ],
   "source": [
    "products_df= pd.read_csv('/datasets/products.csv', sep=';')\n",
    "\n",
    "products_df.head()"
   ]
  },
  {
   "cell_type": "code",
   "execution_count": 4,
   "id": "5130e05e",
   "metadata": {},
   "outputs": [
    {
     "data": {
      "text/html": [
       "<div>\n",
       "<style scoped>\n",
       "    .dataframe tbody tr th:only-of-type {\n",
       "        vertical-align: middle;\n",
       "    }\n",
       "\n",
       "    .dataframe tbody tr th {\n",
       "        vertical-align: top;\n",
       "    }\n",
       "\n",
       "    .dataframe thead th {\n",
       "        text-align: right;\n",
       "    }\n",
       "</style>\n",
       "<table border=\"1\" class=\"dataframe\">\n",
       "  <thead>\n",
       "    <tr style=\"text-align: right;\">\n",
       "      <th></th>\n",
       "      <th>order_id</th>\n",
       "      <th>product_id</th>\n",
       "      <th>add_to_cart_order</th>\n",
       "      <th>reordered</th>\n",
       "    </tr>\n",
       "  </thead>\n",
       "  <tbody>\n",
       "    <tr>\n",
       "      <th>0</th>\n",
       "      <td>2141543</td>\n",
       "      <td>11440</td>\n",
       "      <td>17.0</td>\n",
       "      <td>0</td>\n",
       "    </tr>\n",
       "    <tr>\n",
       "      <th>1</th>\n",
       "      <td>567889</td>\n",
       "      <td>1560</td>\n",
       "      <td>1.0</td>\n",
       "      <td>1</td>\n",
       "    </tr>\n",
       "    <tr>\n",
       "      <th>2</th>\n",
       "      <td>2261212</td>\n",
       "      <td>26683</td>\n",
       "      <td>1.0</td>\n",
       "      <td>1</td>\n",
       "    </tr>\n",
       "    <tr>\n",
       "      <th>3</th>\n",
       "      <td>491251</td>\n",
       "      <td>8670</td>\n",
       "      <td>35.0</td>\n",
       "      <td>1</td>\n",
       "    </tr>\n",
       "    <tr>\n",
       "      <th>4</th>\n",
       "      <td>2571142</td>\n",
       "      <td>1940</td>\n",
       "      <td>5.0</td>\n",
       "      <td>1</td>\n",
       "    </tr>\n",
       "  </tbody>\n",
       "</table>\n",
       "</div>"
      ],
      "text/plain": [
       "   order_id  product_id  add_to_cart_order  reordered\n",
       "0   2141543       11440               17.0          0\n",
       "1    567889        1560                1.0          1\n",
       "2   2261212       26683                1.0          1\n",
       "3    491251        8670               35.0          1\n",
       "4   2571142        1940                5.0          1"
      ]
     },
     "execution_count": 4,
     "metadata": {},
     "output_type": "execute_result"
    }
   ],
   "source": [
    "order_products_df=pd.read_csv('/datasets/order_products.csv', sep=';')\n",
    "\n",
    "order_products_df.head()"
   ]
  },
  {
   "cell_type": "code",
   "execution_count": 5,
   "id": "d8370c05",
   "metadata": {},
   "outputs": [
    {
     "data": {
      "text/html": [
       "<div>\n",
       "<style scoped>\n",
       "    .dataframe tbody tr th:only-of-type {\n",
       "        vertical-align: middle;\n",
       "    }\n",
       "\n",
       "    .dataframe tbody tr th {\n",
       "        vertical-align: top;\n",
       "    }\n",
       "\n",
       "    .dataframe thead th {\n",
       "        text-align: right;\n",
       "    }\n",
       "</style>\n",
       "<table border=\"1\" class=\"dataframe\">\n",
       "  <thead>\n",
       "    <tr style=\"text-align: right;\">\n",
       "      <th></th>\n",
       "      <th>aisle_id</th>\n",
       "      <th>aisle</th>\n",
       "    </tr>\n",
       "  </thead>\n",
       "  <tbody>\n",
       "    <tr>\n",
       "      <th>0</th>\n",
       "      <td>1</td>\n",
       "      <td>prepared soups salads</td>\n",
       "    </tr>\n",
       "    <tr>\n",
       "      <th>1</th>\n",
       "      <td>2</td>\n",
       "      <td>specialty cheeses</td>\n",
       "    </tr>\n",
       "    <tr>\n",
       "      <th>2</th>\n",
       "      <td>3</td>\n",
       "      <td>energy granola bars</td>\n",
       "    </tr>\n",
       "    <tr>\n",
       "      <th>3</th>\n",
       "      <td>4</td>\n",
       "      <td>instant foods</td>\n",
       "    </tr>\n",
       "    <tr>\n",
       "      <th>4</th>\n",
       "      <td>5</td>\n",
       "      <td>marinades meat preparation</td>\n",
       "    </tr>\n",
       "  </tbody>\n",
       "</table>\n",
       "</div>"
      ],
      "text/plain": [
       "   aisle_id                       aisle\n",
       "0         1       prepared soups salads\n",
       "1         2           specialty cheeses\n",
       "2         3         energy granola bars\n",
       "3         4               instant foods\n",
       "4         5  marinades meat preparation"
      ]
     },
     "execution_count": 5,
     "metadata": {},
     "output_type": "execute_result"
    }
   ],
   "source": [
    "aisles_df=pd.read_csv('/datasets/aisles.csv', sep=';')\n",
    "\n",
    "aisles_df.head()"
   ]
  },
  {
   "cell_type": "code",
   "execution_count": 6,
   "id": "59e2090f",
   "metadata": {},
   "outputs": [
    {
     "data": {
      "text/html": [
       "<div>\n",
       "<style scoped>\n",
       "    .dataframe tbody tr th:only-of-type {\n",
       "        vertical-align: middle;\n",
       "    }\n",
       "\n",
       "    .dataframe tbody tr th {\n",
       "        vertical-align: top;\n",
       "    }\n",
       "\n",
       "    .dataframe thead th {\n",
       "        text-align: right;\n",
       "    }\n",
       "</style>\n",
       "<table border=\"1\" class=\"dataframe\">\n",
       "  <thead>\n",
       "    <tr style=\"text-align: right;\">\n",
       "      <th></th>\n",
       "      <th>department_id</th>\n",
       "      <th>department</th>\n",
       "    </tr>\n",
       "  </thead>\n",
       "  <tbody>\n",
       "    <tr>\n",
       "      <th>0</th>\n",
       "      <td>1</td>\n",
       "      <td>frozen</td>\n",
       "    </tr>\n",
       "    <tr>\n",
       "      <th>1</th>\n",
       "      <td>2</td>\n",
       "      <td>other</td>\n",
       "    </tr>\n",
       "    <tr>\n",
       "      <th>2</th>\n",
       "      <td>3</td>\n",
       "      <td>bakery</td>\n",
       "    </tr>\n",
       "    <tr>\n",
       "      <th>3</th>\n",
       "      <td>4</td>\n",
       "      <td>produce</td>\n",
       "    </tr>\n",
       "    <tr>\n",
       "      <th>4</th>\n",
       "      <td>5</td>\n",
       "      <td>alcohol</td>\n",
       "    </tr>\n",
       "  </tbody>\n",
       "</table>\n",
       "</div>"
      ],
      "text/plain": [
       "   department_id department\n",
       "0              1     frozen\n",
       "1              2      other\n",
       "2              3     bakery\n",
       "3              4    produce\n",
       "4              5    alcohol"
      ]
     },
     "execution_count": 6,
     "metadata": {},
     "output_type": "execute_result"
    }
   ],
   "source": [
    "departments_df=pd.read_csv('/datasets/departments.csv', sep=';')\n",
    "\n",
    "departments_df.head()"
   ]
  },
  {
   "cell_type": "markdown",
   "id": "1f870430",
   "metadata": {},
   "source": [
    "Obtaining the general information the table of each df:"
   ]
  },
  {
   "cell_type": "code",
   "execution_count": 7,
   "id": "4281e80b",
   "metadata": {},
   "outputs": [
    {
     "name": "stdout",
     "output_type": "stream",
     "text": [
      "<class 'pandas.core.frame.DataFrame'>\n",
      "RangeIndex: 478967 entries, 0 to 478966\n",
      "Data columns (total 6 columns):\n",
      " #   Column                  Non-Null Count   Dtype  \n",
      "---  ------                  --------------   -----  \n",
      " 0   order_id                478967 non-null  int64  \n",
      " 1   user_id                 478967 non-null  int64  \n",
      " 2   order_number            478967 non-null  int64  \n",
      " 3   order_dow               478967 non-null  int64  \n",
      " 4   order_hour_of_day       478967 non-null  int64  \n",
      " 5   days_since_prior_order  450148 non-null  float64\n",
      "dtypes: float64(1), int64(5)\n",
      "memory usage: 21.9 MB\n"
     ]
    }
   ],
   "source": [
    "instacart_orders_df.info()"
   ]
  },
  {
   "cell_type": "markdown",
   "id": "beb367bb",
   "metadata": {},
   "source": [
    "This table contains 6 columns. The majority contain the datatype: (int64) except for `'days_since_prior_order'` which contains the data type (float64)\n",
    "\n",
    "According to the documentation:\n",
    "* `'order_id'` ID number that uniquely identifies each order\n",
    "* `'user_id'`: ID number that uniquely identifies each customer account\n",
    "* `'order_number'`: the number of times this customer has placed an order\n",
    "* `'order_dow'`: day of the week that the order placed (which day is 0 is uncertain)\n",
    "* `'order_hour_of_day'`: hour of the day that the order was placed\n",
    "* `'days_since_prior_order'`: number of days since this customer placed their previous order"
   ]
  },
  {
   "cell_type": "code",
   "execution_count": 8,
   "id": "1a3c8ffd",
   "metadata": {
    "scrolled": true
   },
   "outputs": [
    {
     "name": "stdout",
     "output_type": "stream",
     "text": [
      "<class 'pandas.core.frame.DataFrame'>\n",
      "RangeIndex: 49694 entries, 0 to 49693\n",
      "Data columns (total 4 columns):\n",
      " #   Column         Non-Null Count  Dtype \n",
      "---  ------         --------------  ----- \n",
      " 0   product_id     49694 non-null  int64 \n",
      " 1   product_name   48436 non-null  object\n",
      " 2   aisle_id       49694 non-null  int64 \n",
      " 3   department_id  49694 non-null  int64 \n",
      "dtypes: int64(3), object(1)\n",
      "memory usage: 1.5+ MB\n"
     ]
    }
   ],
   "source": [
    "products_df.info()"
   ]
  },
  {
   "cell_type": "markdown",
   "id": "5b857b41",
   "metadata": {},
   "source": [
    "This table contains 4 columns. Most with the datatype: (int64) except for `'product_name'` which contains datatype: (object)\n",
    "\n",
    "According to documentation:\n",
    "\n",
    "* `'product_id'`: ID number that uniquely identifies each product\n",
    "* `'product_name'`: name of the product\n",
    "* `'aisle_id'`: ID number that uniquely identifies each grocery aisle category\n",
    "* `'department_id'`: ID number that uniquely identifies each grocery department category\n"
   ]
  },
  {
   "cell_type": "code",
   "execution_count": 9,
   "id": "5b56ed87",
   "metadata": {},
   "outputs": [
    {
     "name": "stdout",
     "output_type": "stream",
     "text": [
      "<class 'pandas.core.frame.DataFrame'>\n",
      "RangeIndex: 4545007 entries, 0 to 4545006\n",
      "Data columns (total 4 columns):\n",
      " #   Column             Non-Null Count    Dtype  \n",
      "---  ------             --------------    -----  \n",
      " 0   order_id           4545007 non-null  int64  \n",
      " 1   product_id         4545007 non-null  int64  \n",
      " 2   add_to_cart_order  4544171 non-null  float64\n",
      " 3   reordered          4545007 non-null  int64  \n",
      "dtypes: float64(1), int64(3)\n",
      "memory usage: 138.7 MB\n"
     ]
    }
   ],
   "source": [
    "order_products_df.info(show_counts=True)"
   ]
  },
  {
   "cell_type": "markdown",
   "id": "32e8ecd4",
   "metadata": {},
   "source": [
    "This table contains 4 columns. Most with datatype: (int64) except for `'add_to_cart_order'` which contains datatype: (float64)\n",
    "\n",
    "According to documentation: \n",
    "\n",
    "* `'order_id'`:ID number that uniquely identifies each order \n",
    "* `'product_id'`:ID number that uniquely identifies each product\n",
    "* `'add_to_cart_order'`: the sequential order in which each item was placed in the cart\n",
    "* `'reordered'`: 0 if the customer has never ordered this product before, 1 if they have\n"
   ]
  },
  {
   "cell_type": "code",
   "execution_count": 10,
   "id": "dba1d4ba",
   "metadata": {},
   "outputs": [
    {
     "name": "stdout",
     "output_type": "stream",
     "text": [
      "<class 'pandas.core.frame.DataFrame'>\n",
      "RangeIndex: 134 entries, 0 to 133\n",
      "Data columns (total 2 columns):\n",
      " #   Column    Non-Null Count  Dtype \n",
      "---  ------    --------------  ----- \n",
      " 0   aisle_id  134 non-null    int64 \n",
      " 1   aisle     134 non-null    object\n",
      "dtypes: int64(1), object(1)\n",
      "memory usage: 2.2+ KB\n"
     ]
    }
   ],
   "source": [
    "aisles_df.info()"
   ]
  },
  {
   "cell_type": "markdown",
   "id": "73fe4e38",
   "metadata": {},
   "source": [
    "This table contains 2 columns. `'aisle_id'` datatype: (int64) and `'aisle'` datatype: (object)\n",
    "\n",
    "According to documentation: \n",
    "\n",
    "* `'aisle_id'`: ID number that uniquely identifies each grocery aisle category\n",
    "* `'aisle'`: name of the aisle "
   ]
  },
  {
   "cell_type": "code",
   "execution_count": 11,
   "id": "6fc81694",
   "metadata": {},
   "outputs": [
    {
     "name": "stdout",
     "output_type": "stream",
     "text": [
      "<class 'pandas.core.frame.DataFrame'>\n",
      "RangeIndex: 21 entries, 0 to 20\n",
      "Data columns (total 2 columns):\n",
      " #   Column         Non-Null Count  Dtype \n",
      "---  ------         --------------  ----- \n",
      " 0   department_id  21 non-null     int64 \n",
      " 1   department     21 non-null     object\n",
      "dtypes: int64(1), object(1)\n",
      "memory usage: 464.0+ bytes\n"
     ]
    }
   ],
   "source": [
    "departments_df.info()"
   ]
  },
  {
   "cell_type": "markdown",
   "id": "1dd06bed",
   "metadata": {},
   "source": [
    "This table contains 2 columns. `'department_id'` datatype: (int64) and `'department'` datatype: (object)\n",
    "\n",
    "According to documentation: \n",
    "\n",
    "* `'department_id'`:ID number that uniquely identifies each grocery department category\n",
    "* `'department'`: name of the department"
   ]
  },
  {
   "cell_type": "markdown",
   "id": "07357848-dc64-4156-9cc3-01ff4365226d",
   "metadata": {},
   "source": [
    "## Handeling Duplicates"
   ]
  },
  {
   "cell_type": "markdown",
   "id": "f179f0a9",
   "metadata": {},
   "source": [
    "### `orders` data frame"
   ]
  },
  {
   "cell_type": "code",
   "execution_count": 12,
   "id": "b99297a5-405a-463d-8535-9adc3da4ad74",
   "metadata": {},
   "outputs": [
    {
     "data": {
      "text/plain": [
       "15"
      ]
     },
     "execution_count": 12,
     "metadata": {},
     "output_type": "execute_result"
    }
   ],
   "source": [
    "# Check for duplicated orders\n",
    "instacart_orders_df.duplicated().sum()"
   ]
  },
  {
   "cell_type": "markdown",
   "id": "23534b3c",
   "metadata": {},
   "source": [
    "There are 15 duplicated rows in the `'instacart_orders_df'` data frame. "
   ]
  },
  {
   "cell_type": "code",
   "execution_count": 13,
   "id": "0d44de5d",
   "metadata": {},
   "outputs": [
    {
     "data": {
      "text/plain": [
       "4838      2\n",
       "5156      2\n",
       "15506     2\n",
       "18420     2\n",
       "24691     2\n",
       "         ..\n",
       "457013    2\n",
       "458816    2\n",
       "459635    2\n",
       "468324    2\n",
       "477526    2\n",
       "Name: order_hour_of_day, Length: 121, dtype: int64"
      ]
     },
     "execution_count": 13,
     "metadata": {},
     "output_type": "execute_result"
    }
   ],
   "source": [
    "# Check for all orders placed Wednesday at 2:00 AM\n",
    "wed_orders= instacart_orders_df.query('order_dow == 3 and order_hour_of_day == 2', )['order_hour_of_day']\n",
    "wed_orders"
   ]
  },
  {
   "cell_type": "markdown",
   "id": "38c6a8a3",
   "metadata": {},
   "source": [
    "There are 121 orders placed on Wednesday at 2:00AM."
   ]
  },
  {
   "cell_type": "code",
   "execution_count": 14,
   "id": "480563c7",
   "metadata": {},
   "outputs": [
    {
     "data": {
      "text/html": [
       "<div>\n",
       "<style scoped>\n",
       "    .dataframe tbody tr th:only-of-type {\n",
       "        vertical-align: middle;\n",
       "    }\n",
       "\n",
       "    .dataframe tbody tr th {\n",
       "        vertical-align: top;\n",
       "    }\n",
       "\n",
       "    .dataframe thead th {\n",
       "        text-align: right;\n",
       "    }\n",
       "</style>\n",
       "<table border=\"1\" class=\"dataframe\">\n",
       "  <thead>\n",
       "    <tr style=\"text-align: right;\">\n",
       "      <th></th>\n",
       "      <th>order_id</th>\n",
       "      <th>user_id</th>\n",
       "      <th>order_number</th>\n",
       "      <th>order_dow</th>\n",
       "      <th>order_hour_of_day</th>\n",
       "      <th>days_since_prior_order</th>\n",
       "    </tr>\n",
       "  </thead>\n",
       "  <tbody>\n",
       "    <tr>\n",
       "      <th>0</th>\n",
       "      <td>1515936</td>\n",
       "      <td>183418</td>\n",
       "      <td>11</td>\n",
       "      <td>6</td>\n",
       "      <td>13</td>\n",
       "      <td>30.0</td>\n",
       "    </tr>\n",
       "    <tr>\n",
       "      <th>1</th>\n",
       "      <td>1690866</td>\n",
       "      <td>163593</td>\n",
       "      <td>5</td>\n",
       "      <td>5</td>\n",
       "      <td>12</td>\n",
       "      <td>9.0</td>\n",
       "    </tr>\n",
       "    <tr>\n",
       "      <th>2</th>\n",
       "      <td>1454967</td>\n",
       "      <td>39980</td>\n",
       "      <td>4</td>\n",
       "      <td>5</td>\n",
       "      <td>19</td>\n",
       "      <td>2.0</td>\n",
       "    </tr>\n",
       "    <tr>\n",
       "      <th>3</th>\n",
       "      <td>1768857</td>\n",
       "      <td>82516</td>\n",
       "      <td>56</td>\n",
       "      <td>0</td>\n",
       "      <td>20</td>\n",
       "      <td>10.0</td>\n",
       "    </tr>\n",
       "    <tr>\n",
       "      <th>4</th>\n",
       "      <td>3007858</td>\n",
       "      <td>196724</td>\n",
       "      <td>2</td>\n",
       "      <td>4</td>\n",
       "      <td>12</td>\n",
       "      <td>17.0</td>\n",
       "    </tr>\n",
       "    <tr>\n",
       "      <th>...</th>\n",
       "      <td>...</td>\n",
       "      <td>...</td>\n",
       "      <td>...</td>\n",
       "      <td>...</td>\n",
       "      <td>...</td>\n",
       "      <td>...</td>\n",
       "    </tr>\n",
       "    <tr>\n",
       "      <th>478947</th>\n",
       "      <td>3210681</td>\n",
       "      <td>5617</td>\n",
       "      <td>5</td>\n",
       "      <td>1</td>\n",
       "      <td>14</td>\n",
       "      <td>7.0</td>\n",
       "    </tr>\n",
       "    <tr>\n",
       "      <th>478948</th>\n",
       "      <td>3270802</td>\n",
       "      <td>112087</td>\n",
       "      <td>2</td>\n",
       "      <td>3</td>\n",
       "      <td>13</td>\n",
       "      <td>6.0</td>\n",
       "    </tr>\n",
       "    <tr>\n",
       "      <th>478949</th>\n",
       "      <td>885349</td>\n",
       "      <td>82944</td>\n",
       "      <td>16</td>\n",
       "      <td>2</td>\n",
       "      <td>11</td>\n",
       "      <td>6.0</td>\n",
       "    </tr>\n",
       "    <tr>\n",
       "      <th>478950</th>\n",
       "      <td>216274</td>\n",
       "      <td>4391</td>\n",
       "      <td>3</td>\n",
       "      <td>3</td>\n",
       "      <td>8</td>\n",
       "      <td>8.0</td>\n",
       "    </tr>\n",
       "    <tr>\n",
       "      <th>478951</th>\n",
       "      <td>2071924</td>\n",
       "      <td>1730</td>\n",
       "      <td>18</td>\n",
       "      <td>1</td>\n",
       "      <td>14</td>\n",
       "      <td>15.0</td>\n",
       "    </tr>\n",
       "  </tbody>\n",
       "</table>\n",
       "<p>478952 rows × 6 columns</p>\n",
       "</div>"
      ],
      "text/plain": [
       "        order_id  user_id  order_number  order_dow  order_hour_of_day  \\\n",
       "0        1515936   183418            11          6                 13   \n",
       "1        1690866   163593             5          5                 12   \n",
       "2        1454967    39980             4          5                 19   \n",
       "3        1768857    82516            56          0                 20   \n",
       "4        3007858   196724             2          4                 12   \n",
       "...          ...      ...           ...        ...                ...   \n",
       "478947   3210681     5617             5          1                 14   \n",
       "478948   3270802   112087             2          3                 13   \n",
       "478949    885349    82944            16          2                 11   \n",
       "478950    216274     4391             3          3                  8   \n",
       "478951   2071924     1730            18          1                 14   \n",
       "\n",
       "        days_since_prior_order  \n",
       "0                         30.0  \n",
       "1                          9.0  \n",
       "2                          2.0  \n",
       "3                         10.0  \n",
       "4                         17.0  \n",
       "...                        ...  \n",
       "478947                     7.0  \n",
       "478948                     6.0  \n",
       "478949                     6.0  \n",
       "478950                     8.0  \n",
       "478951                    15.0  \n",
       "\n",
       "[478952 rows x 6 columns]"
      ]
     },
     "execution_count": 14,
     "metadata": {},
     "output_type": "execute_result"
    }
   ],
   "source": [
    "# Remove duplicate orders\n",
    "instacart_orders_df=instacart_orders_df.drop_duplicates().reset_index(drop=True)\n",
    "instacart_orders_df"
   ]
  },
  {
   "cell_type": "code",
   "execution_count": 15,
   "id": "0b2396a2",
   "metadata": {},
   "outputs": [
    {
     "data": {
      "text/plain": [
       "0"
      ]
     },
     "execution_count": 15,
     "metadata": {},
     "output_type": "execute_result"
    }
   ],
   "source": [
    "# Double check for duplicate rows\n",
    "instacart_orders_df.duplicated().sum()"
   ]
  },
  {
   "cell_type": "code",
   "execution_count": 16,
   "id": "f6113ef1",
   "metadata": {},
   "outputs": [
    {
     "data": {
      "text/plain": [
       "0"
      ]
     },
     "execution_count": 16,
     "metadata": {},
     "output_type": "execute_result"
    }
   ],
   "source": [
    "# Double check for duplicate order IDs only\n",
    "instacart_orders_df['order_id'].duplicated().sum()"
   ]
  },
  {
   "cell_type": "markdown",
   "id": "5e8905ae",
   "metadata": {},
   "source": [
    "Duplicates have been removed from the `'instacart_orders_df'`"
   ]
  },
  {
   "cell_type": "markdown",
   "id": "45e6bc46",
   "metadata": {},
   "source": [
    "### `products` data frame"
   ]
  },
  {
   "cell_type": "code",
   "execution_count": 17,
   "id": "5f526b5b-8175-46fa-a0fd-441767d50e64",
   "metadata": {},
   "outputs": [
    {
     "data": {
      "text/plain": [
       "0"
      ]
     },
     "execution_count": 17,
     "metadata": {},
     "output_type": "execute_result"
    }
   ],
   "source": [
    "# Check for fully duplicate rows\n",
    "products_df.duplicated().sum()"
   ]
  },
  {
   "cell_type": "code",
   "execution_count": 18,
   "id": "88daa4f4",
   "metadata": {},
   "outputs": [
    {
     "data": {
      "text/plain": [
       "0"
      ]
     },
     "execution_count": 18,
     "metadata": {},
     "output_type": "execute_result"
    }
   ],
   "source": [
    "# Check for just duplicate product IDs\n",
    "products_df['product_id'].duplicated().sum()"
   ]
  },
  {
   "cell_type": "code",
   "execution_count": 19,
   "id": "c773f0bf",
   "metadata": {
    "scrolled": true
   },
   "outputs": [
    {
     "data": {
      "text/html": [
       "<div>\n",
       "<style scoped>\n",
       "    .dataframe tbody tr th:only-of-type {\n",
       "        vertical-align: middle;\n",
       "    }\n",
       "\n",
       "    .dataframe tbody tr th {\n",
       "        vertical-align: top;\n",
       "    }\n",
       "\n",
       "    .dataframe thead th {\n",
       "        text-align: right;\n",
       "    }\n",
       "</style>\n",
       "<table border=\"1\" class=\"dataframe\">\n",
       "  <thead>\n",
       "    <tr style=\"text-align: right;\">\n",
       "      <th></th>\n",
       "      <th>product_id</th>\n",
       "      <th>product_name</th>\n",
       "      <th>aisle_id</th>\n",
       "      <th>department_id</th>\n",
       "    </tr>\n",
       "  </thead>\n",
       "  <tbody>\n",
       "    <tr>\n",
       "      <th>37</th>\n",
       "      <td>38</td>\n",
       "      <td>NaN</td>\n",
       "      <td>100</td>\n",
       "      <td>21</td>\n",
       "    </tr>\n",
       "    <tr>\n",
       "      <th>41</th>\n",
       "      <td>42</td>\n",
       "      <td>Biotin 1000 mcg</td>\n",
       "      <td>47</td>\n",
       "      <td>11</td>\n",
       "    </tr>\n",
       "    <tr>\n",
       "      <th>71</th>\n",
       "      <td>72</td>\n",
       "      <td>NaN</td>\n",
       "      <td>100</td>\n",
       "      <td>21</td>\n",
       "    </tr>\n",
       "    <tr>\n",
       "      <th>109</th>\n",
       "      <td>110</td>\n",
       "      <td>NaN</td>\n",
       "      <td>100</td>\n",
       "      <td>21</td>\n",
       "    </tr>\n",
       "    <tr>\n",
       "      <th>185</th>\n",
       "      <td>186</td>\n",
       "      <td>Fresh Scent Dishwasher Detergent with Dawn</td>\n",
       "      <td>74</td>\n",
       "      <td>17</td>\n",
       "    </tr>\n",
       "    <tr>\n",
       "      <th>...</th>\n",
       "      <td>...</td>\n",
       "      <td>...</td>\n",
       "      <td>...</td>\n",
       "      <td>...</td>\n",
       "    </tr>\n",
       "    <tr>\n",
       "      <th>49689</th>\n",
       "      <td>49690</td>\n",
       "      <td>HIGH PERFORMANCE ENERGY DRINK</td>\n",
       "      <td>64</td>\n",
       "      <td>7</td>\n",
       "    </tr>\n",
       "    <tr>\n",
       "      <th>49690</th>\n",
       "      <td>49691</td>\n",
       "      <td>ORIGINAL PANCAKE &amp; WAFFLE MIX</td>\n",
       "      <td>130</td>\n",
       "      <td>14</td>\n",
       "    </tr>\n",
       "    <tr>\n",
       "      <th>49691</th>\n",
       "      <td>49692</td>\n",
       "      <td>ORGANIC INSTANT OATMEAL LIGHT MAPLE BROWN SUGAR</td>\n",
       "      <td>130</td>\n",
       "      <td>14</td>\n",
       "    </tr>\n",
       "    <tr>\n",
       "      <th>49692</th>\n",
       "      <td>49693</td>\n",
       "      <td>SPRING WATER BODY WASH</td>\n",
       "      <td>127</td>\n",
       "      <td>11</td>\n",
       "    </tr>\n",
       "    <tr>\n",
       "      <th>49693</th>\n",
       "      <td>49694</td>\n",
       "      <td>BURRITO- STEAK &amp; CHEESE</td>\n",
       "      <td>38</td>\n",
       "      <td>1</td>\n",
       "    </tr>\n",
       "  </tbody>\n",
       "</table>\n",
       "<p>1465 rows × 4 columns</p>\n",
       "</div>"
      ],
      "text/plain": [
       "       product_id                                     product_name  aisle_id  \\\n",
       "37             38                                              NaN       100   \n",
       "41             42                                  Biotin 1000 mcg        47   \n",
       "71             72                                              NaN       100   \n",
       "109           110                                              NaN       100   \n",
       "185           186       Fresh Scent Dishwasher Detergent with Dawn        74   \n",
       "...           ...                                              ...       ...   \n",
       "49689       49690                    HIGH PERFORMANCE ENERGY DRINK        64   \n",
       "49690       49691                    ORIGINAL PANCAKE & WAFFLE MIX       130   \n",
       "49691       49692  ORGANIC INSTANT OATMEAL LIGHT MAPLE BROWN SUGAR       130   \n",
       "49692       49693                           SPRING WATER BODY WASH       127   \n",
       "49693       49694                          BURRITO- STEAK & CHEESE        38   \n",
       "\n",
       "       department_id  \n",
       "37                21  \n",
       "41                11  \n",
       "71                21  \n",
       "109               21  \n",
       "185               17  \n",
       "...              ...  \n",
       "49689              7  \n",
       "49690             14  \n",
       "49691             14  \n",
       "49692             11  \n",
       "49693              1  \n",
       "\n",
       "[1465 rows x 4 columns]"
      ]
     },
     "execution_count": 19,
     "metadata": {},
     "output_type": "execute_result"
    }
   ],
   "source": [
    "# Check for just duplicate product names (convert names to lowercase to compare better)\n",
    "products_df[products_df['product_name'].str.lower().duplicated(keep=False)]"
   ]
  },
  {
   "cell_type": "code",
   "execution_count": 20,
   "id": "bb1575fc",
   "metadata": {},
   "outputs": [
    {
     "data": {
      "text/plain": [
       "207"
      ]
     },
     "execution_count": 20,
     "metadata": {},
     "output_type": "execute_result"
    }
   ],
   "source": [
    "##### Check for duplicate product names that aren't missing\n",
    "products_df['product_name'].str.lower().dropna().duplicated(keep=False).sum()\n"
   ]
  },
  {
   "cell_type": "markdown",
   "id": "9da8d293",
   "metadata": {},
   "source": [
    "There are 1465 duplicates in the `'products_df'` column `'product_name'` when we include missing values. \n",
    "There are 207 duplicates when missing values are dropped. "
   ]
  },
  {
   "cell_type": "markdown",
   "id": "60f30db1",
   "metadata": {},
   "source": [
    "### `departments` data frame"
   ]
  },
  {
   "cell_type": "code",
   "execution_count": 21,
   "id": "fb410ad4-0fbf-4b80-bb09-23fdea79afe3",
   "metadata": {},
   "outputs": [
    {
     "data": {
      "text/plain": [
       "0"
      ]
     },
     "execution_count": 21,
     "metadata": {},
     "output_type": "execute_result"
    }
   ],
   "source": [
    "# Check for duplicates\n",
    "departments_df.duplicated().sum()"
   ]
  },
  {
   "cell_type": "markdown",
   "id": "f39b803b",
   "metadata": {},
   "source": [
    "There are no duplicates in the `'departments_df'`"
   ]
  },
  {
   "cell_type": "code",
   "execution_count": 22,
   "id": "0e2537f2",
   "metadata": {},
   "outputs": [
    {
     "data": {
      "text/plain": [
       "0"
      ]
     },
     "execution_count": 22,
     "metadata": {},
     "output_type": "execute_result"
    }
   ],
   "source": [
    "departments_df['department_id'].duplicated().sum()"
   ]
  },
  {
   "cell_type": "markdown",
   "id": "cdbe8474",
   "metadata": {},
   "source": [
    "There are no duplicates in the `'department_id'` column "
   ]
  },
  {
   "cell_type": "markdown",
   "id": "889349c1",
   "metadata": {},
   "source": [
    "### `aisles` data frame"
   ]
  },
  {
   "cell_type": "code",
   "execution_count": 23,
   "id": "9da89fb9-4679-40f5-ad0d-c34df753a3f8",
   "metadata": {},
   "outputs": [
    {
     "data": {
      "text/plain": [
       "0"
      ]
     },
     "execution_count": 23,
     "metadata": {},
     "output_type": "execute_result"
    }
   ],
   "source": [
    "# Check for duplicates\n",
    "aisles_df.duplicated().sum()"
   ]
  },
  {
   "cell_type": "code",
   "execution_count": 24,
   "id": "f0abdd0d",
   "metadata": {},
   "outputs": [
    {
     "data": {
      "text/plain": [
       "0"
      ]
     },
     "execution_count": 24,
     "metadata": {},
     "output_type": "execute_result"
    }
   ],
   "source": [
    "aisles_df['aisle_id'].duplicated().sum()"
   ]
  },
  {
   "cell_type": "markdown",
   "id": "335c295e",
   "metadata": {},
   "source": [
    "There are no duplicates in the `'aisles_df'`"
   ]
  },
  {
   "cell_type": "markdown",
   "id": "274cd06a",
   "metadata": {},
   "source": [
    "### `order_products` data frame"
   ]
  },
  {
   "cell_type": "code",
   "execution_count": 25,
   "id": "52326689-84a8-4b8f-a881-7c68780f62c9",
   "metadata": {},
   "outputs": [
    {
     "data": {
      "text/plain": [
       "0"
      ]
     },
     "execution_count": 25,
     "metadata": {},
     "output_type": "execute_result"
    }
   ],
   "source": [
    "# Check for fullly duplicate rows\n",
    "order_products_df.duplicated().sum()"
   ]
  },
  {
   "cell_type": "code",
   "execution_count": 26,
   "id": "7b861391",
   "metadata": {},
   "outputs": [
    {
     "data": {
      "text/html": [
       "<div>\n",
       "<style scoped>\n",
       "    .dataframe tbody tr th:only-of-type {\n",
       "        vertical-align: middle;\n",
       "    }\n",
       "\n",
       "    .dataframe tbody tr th {\n",
       "        vertical-align: top;\n",
       "    }\n",
       "\n",
       "    .dataframe thead th {\n",
       "        text-align: right;\n",
       "    }\n",
       "</style>\n",
       "<table border=\"1\" class=\"dataframe\">\n",
       "  <thead>\n",
       "    <tr style=\"text-align: right;\">\n",
       "      <th></th>\n",
       "      <th>order_id</th>\n",
       "      <th>product_id</th>\n",
       "      <th>add_to_cart_order</th>\n",
       "      <th>reordered</th>\n",
       "    </tr>\n",
       "  </thead>\n",
       "  <tbody>\n",
       "  </tbody>\n",
       "</table>\n",
       "</div>"
      ],
      "text/plain": [
       "Empty DataFrame\n",
       "Columns: [order_id, product_id, add_to_cart_order, reordered]\n",
       "Index: []"
      ]
     },
     "execution_count": 26,
     "metadata": {},
     "output_type": "execute_result"
    }
   ],
   "source": [
    "# Double check for any other tricky duplicates\n",
    "duplicates=order_products_df.duplicated(subset=['order_id', 'product_id'], keep=False)\n",
    "order_products_df[duplicates].sort_values(by=['order_id', 'product_id'])"
   ]
  },
  {
   "cell_type": "markdown",
   "id": "7b204321",
   "metadata": {},
   "source": [
    "There are no duplicates in the `'order_products_df'`"
   ]
  },
  {
   "cell_type": "markdown",
   "id": "1e46de76",
   "metadata": {},
   "source": [
    "## Handeling Missing Values\n"
   ]
  },
  {
   "cell_type": "markdown",
   "id": "c0aebd78",
   "metadata": {},
   "source": [
    "### `products` data frame"
   ]
  },
  {
   "cell_type": "code",
   "execution_count": 27,
   "id": "fe4a8b0f",
   "metadata": {},
   "outputs": [
    {
     "data": {
      "text/plain": [
       "product_id          0\n",
       "product_name     1258\n",
       "aisle_id            0\n",
       "department_id       0\n",
       "dtype: int64"
      ]
     },
     "execution_count": 27,
     "metadata": {},
     "output_type": "execute_result"
    }
   ],
   "source": [
    "#find how many missing values are in each column\n",
    "products_df.isna().sum()"
   ]
  },
  {
   "cell_type": "code",
   "execution_count": 28,
   "id": "e96167bc",
   "metadata": {},
   "outputs": [
    {
     "data": {
      "text/html": [
       "<div>\n",
       "<style scoped>\n",
       "    .dataframe tbody tr th:only-of-type {\n",
       "        vertical-align: middle;\n",
       "    }\n",
       "\n",
       "    .dataframe tbody tr th {\n",
       "        vertical-align: top;\n",
       "    }\n",
       "\n",
       "    .dataframe thead th {\n",
       "        text-align: right;\n",
       "    }\n",
       "</style>\n",
       "<table border=\"1\" class=\"dataframe\">\n",
       "  <thead>\n",
       "    <tr style=\"text-align: right;\">\n",
       "      <th></th>\n",
       "      <th>product_id</th>\n",
       "      <th>product_name</th>\n",
       "      <th>aisle_id</th>\n",
       "      <th>department_id</th>\n",
       "    </tr>\n",
       "  </thead>\n",
       "  <tbody>\n",
       "    <tr>\n",
       "      <th>37</th>\n",
       "      <td>38</td>\n",
       "      <td>NaN</td>\n",
       "      <td>100</td>\n",
       "      <td>21</td>\n",
       "    </tr>\n",
       "    <tr>\n",
       "      <th>71</th>\n",
       "      <td>72</td>\n",
       "      <td>NaN</td>\n",
       "      <td>100</td>\n",
       "      <td>21</td>\n",
       "    </tr>\n",
       "    <tr>\n",
       "      <th>109</th>\n",
       "      <td>110</td>\n",
       "      <td>NaN</td>\n",
       "      <td>100</td>\n",
       "      <td>21</td>\n",
       "    </tr>\n",
       "    <tr>\n",
       "      <th>296</th>\n",
       "      <td>297</td>\n",
       "      <td>NaN</td>\n",
       "      <td>100</td>\n",
       "      <td>21</td>\n",
       "    </tr>\n",
       "    <tr>\n",
       "      <th>416</th>\n",
       "      <td>417</td>\n",
       "      <td>NaN</td>\n",
       "      <td>100</td>\n",
       "      <td>21</td>\n",
       "    </tr>\n",
       "    <tr>\n",
       "      <th>...</th>\n",
       "      <td>...</td>\n",
       "      <td>...</td>\n",
       "      <td>...</td>\n",
       "      <td>...</td>\n",
       "    </tr>\n",
       "    <tr>\n",
       "      <th>49552</th>\n",
       "      <td>49553</td>\n",
       "      <td>NaN</td>\n",
       "      <td>100</td>\n",
       "      <td>21</td>\n",
       "    </tr>\n",
       "    <tr>\n",
       "      <th>49574</th>\n",
       "      <td>49575</td>\n",
       "      <td>NaN</td>\n",
       "      <td>100</td>\n",
       "      <td>21</td>\n",
       "    </tr>\n",
       "    <tr>\n",
       "      <th>49640</th>\n",
       "      <td>49641</td>\n",
       "      <td>NaN</td>\n",
       "      <td>100</td>\n",
       "      <td>21</td>\n",
       "    </tr>\n",
       "    <tr>\n",
       "      <th>49663</th>\n",
       "      <td>49664</td>\n",
       "      <td>NaN</td>\n",
       "      <td>100</td>\n",
       "      <td>21</td>\n",
       "    </tr>\n",
       "    <tr>\n",
       "      <th>49668</th>\n",
       "      <td>49669</td>\n",
       "      <td>NaN</td>\n",
       "      <td>100</td>\n",
       "      <td>21</td>\n",
       "    </tr>\n",
       "  </tbody>\n",
       "</table>\n",
       "<p>1258 rows × 4 columns</p>\n",
       "</div>"
      ],
      "text/plain": [
       "       product_id product_name  aisle_id  department_id\n",
       "37             38          NaN       100             21\n",
       "71             72          NaN       100             21\n",
       "109           110          NaN       100             21\n",
       "296           297          NaN       100             21\n",
       "416           417          NaN       100             21\n",
       "...           ...          ...       ...            ...\n",
       "49552       49553          NaN       100             21\n",
       "49574       49575          NaN       100             21\n",
       "49640       49641          NaN       100             21\n",
       "49663       49664          NaN       100             21\n",
       "49668       49669          NaN       100             21\n",
       "\n",
       "[1258 rows x 4 columns]"
      ]
     },
     "execution_count": 28,
     "metadata": {},
     "output_type": "execute_result"
    }
   ],
   "source": [
    "# Are all of the missing product names associated with aisle ID 100?\n",
    "missing_products_df=products_df[(products_df['product_name'].isna()) & (products_df['aisle_id'] ==100)]\n",
    "missing_products_df"
   ]
  },
  {
   "cell_type": "markdown",
   "id": "a2ad5569",
   "metadata": {},
   "source": [
    "The number of missing values in `'product_name'` with `'isle_id'` equal to 100 is the same as the number of missing values in the `'product_name'` column."
   ]
  },
  {
   "cell_type": "code",
   "execution_count": 29,
   "id": "8fd0a541",
   "metadata": {
    "scrolled": true
   },
   "outputs": [
    {
     "data": {
      "text/html": [
       "<div>\n",
       "<style scoped>\n",
       "    .dataframe tbody tr th:only-of-type {\n",
       "        vertical-align: middle;\n",
       "    }\n",
       "\n",
       "    .dataframe tbody tr th {\n",
       "        vertical-align: top;\n",
       "    }\n",
       "\n",
       "    .dataframe thead th {\n",
       "        text-align: right;\n",
       "    }\n",
       "</style>\n",
       "<table border=\"1\" class=\"dataframe\">\n",
       "  <thead>\n",
       "    <tr style=\"text-align: right;\">\n",
       "      <th></th>\n",
       "      <th>product_id</th>\n",
       "      <th>product_name</th>\n",
       "      <th>aisle_id</th>\n",
       "      <th>department_id</th>\n",
       "    </tr>\n",
       "  </thead>\n",
       "  <tbody>\n",
       "    <tr>\n",
       "      <th>37</th>\n",
       "      <td>38</td>\n",
       "      <td>NaN</td>\n",
       "      <td>100</td>\n",
       "      <td>21</td>\n",
       "    </tr>\n",
       "    <tr>\n",
       "      <th>71</th>\n",
       "      <td>72</td>\n",
       "      <td>NaN</td>\n",
       "      <td>100</td>\n",
       "      <td>21</td>\n",
       "    </tr>\n",
       "    <tr>\n",
       "      <th>109</th>\n",
       "      <td>110</td>\n",
       "      <td>NaN</td>\n",
       "      <td>100</td>\n",
       "      <td>21</td>\n",
       "    </tr>\n",
       "    <tr>\n",
       "      <th>296</th>\n",
       "      <td>297</td>\n",
       "      <td>NaN</td>\n",
       "      <td>100</td>\n",
       "      <td>21</td>\n",
       "    </tr>\n",
       "    <tr>\n",
       "      <th>416</th>\n",
       "      <td>417</td>\n",
       "      <td>NaN</td>\n",
       "      <td>100</td>\n",
       "      <td>21</td>\n",
       "    </tr>\n",
       "    <tr>\n",
       "      <th>...</th>\n",
       "      <td>...</td>\n",
       "      <td>...</td>\n",
       "      <td>...</td>\n",
       "      <td>...</td>\n",
       "    </tr>\n",
       "    <tr>\n",
       "      <th>49552</th>\n",
       "      <td>49553</td>\n",
       "      <td>NaN</td>\n",
       "      <td>100</td>\n",
       "      <td>21</td>\n",
       "    </tr>\n",
       "    <tr>\n",
       "      <th>49574</th>\n",
       "      <td>49575</td>\n",
       "      <td>NaN</td>\n",
       "      <td>100</td>\n",
       "      <td>21</td>\n",
       "    </tr>\n",
       "    <tr>\n",
       "      <th>49640</th>\n",
       "      <td>49641</td>\n",
       "      <td>NaN</td>\n",
       "      <td>100</td>\n",
       "      <td>21</td>\n",
       "    </tr>\n",
       "    <tr>\n",
       "      <th>49663</th>\n",
       "      <td>49664</td>\n",
       "      <td>NaN</td>\n",
       "      <td>100</td>\n",
       "      <td>21</td>\n",
       "    </tr>\n",
       "    <tr>\n",
       "      <th>49668</th>\n",
       "      <td>49669</td>\n",
       "      <td>NaN</td>\n",
       "      <td>100</td>\n",
       "      <td>21</td>\n",
       "    </tr>\n",
       "  </tbody>\n",
       "</table>\n",
       "<p>1258 rows × 4 columns</p>\n",
       "</div>"
      ],
      "text/plain": [
       "       product_id product_name  aisle_id  department_id\n",
       "37             38          NaN       100             21\n",
       "71             72          NaN       100             21\n",
       "109           110          NaN       100             21\n",
       "296           297          NaN       100             21\n",
       "416           417          NaN       100             21\n",
       "...           ...          ...       ...            ...\n",
       "49552       49553          NaN       100             21\n",
       "49574       49575          NaN       100             21\n",
       "49640       49641          NaN       100             21\n",
       "49663       49664          NaN       100             21\n",
       "49668       49669          NaN       100             21\n",
       "\n",
       "[1258 rows x 4 columns]"
      ]
     },
     "execution_count": 29,
     "metadata": {},
     "output_type": "execute_result"
    }
   ],
   "source": [
    "# Are all of the missing product names associated with department ID 21?\n",
    "missing_products_df= missing_products_df[(missing_products_df['aisle_id'] == 100) & (missing_products_df['department_id'] == 21)]\n",
    "missing_products_df"
   ]
  },
  {
   "cell_type": "markdown",
   "id": "dcda7aa5",
   "metadata": {},
   "source": [
    "The number of missing values in `'missing_products_df'` is the same when filtered for `'department_id'` equal to 21"
   ]
  },
  {
   "cell_type": "code",
   "execution_count": 30,
   "id": "325c3464",
   "metadata": {},
   "outputs": [
    {
     "data": {
      "text/plain": [
       "aisle_id        100\n",
       "aisle       missing\n",
       "Name: 99, dtype: object"
      ]
     },
     "execution_count": 30,
     "metadata": {},
     "output_type": "execute_result"
    }
   ],
   "source": [
    "\n",
    "# What is this aisle and department?\n",
    "\n",
    "missig_aisle=aisles_df.loc[99]\n",
    "missig_aisle"
   ]
  },
  {
   "cell_type": "code",
   "execution_count": 31,
   "id": "8bcabb8f",
   "metadata": {},
   "outputs": [
    {
     "data": {
      "text/plain": [
       "department_id         21\n",
       "department       missing\n",
       "Name: 20, dtype: object"
      ]
     },
     "execution_count": 31,
     "metadata": {},
     "output_type": "execute_result"
    }
   ],
   "source": [
    "missig_department=departments_df.loc[20]\n",
    "missig_department"
   ]
  },
  {
   "cell_type": "markdown",
   "id": "2b454f41",
   "metadata": {},
   "source": [
    "Both aisle and department that contain missing values is named \"missing\""
   ]
  },
  {
   "cell_type": "code",
   "execution_count": 32,
   "id": "6b295120",
   "metadata": {},
   "outputs": [
    {
     "data": {
      "text/plain": [
       "15556          Medium Chipotle Garlic Taco Skillet Sauce\n",
       "20563           Organic Chewy Peanut Butter Banana Bites\n",
       "34719                               Avocado Oil- Refined\n",
       "13159                             Medium Round Container\n",
       "13930                              Sweetened Raspberries\n",
       "44149                                 Non Alcoholic Beer\n",
       "42404                                    Cocktail Onions\n",
       "34444                     Organic Whole Grain Red Quinoa\n",
       "1848                   Ultra Fine Mist Aerosol Hairspray\n",
       "30336    Gluten Free Dark Chocolate Cocoa Breakfast Bars\n",
       "Name: product_name, dtype: object"
      ]
     },
     "execution_count": 32,
     "metadata": {},
     "output_type": "execute_result"
    }
   ],
   "source": [
    "# Fill missing product names with 'Unknown'\n",
    "products_df['product_name'] = products_df['product_name'].fillna('Unknown')\n",
    "products_df['product_name'].sample(10)"
   ]
  },
  {
   "cell_type": "markdown",
   "id": "7eb45c86",
   "metadata": {},
   "source": [
    "### `orders` data frame"
   ]
  },
  {
   "cell_type": "code",
   "execution_count": 33,
   "id": "93e41d96",
   "metadata": {},
   "outputs": [
    {
     "data": {
      "text/plain": [
       "order_id                      0\n",
       "user_id                       0\n",
       "order_number                  0\n",
       "order_dow                     0\n",
       "order_hour_of_day             0\n",
       "days_since_prior_order    28817\n",
       "dtype: int64"
      ]
     },
     "execution_count": 33,
     "metadata": {},
     "output_type": "execute_result"
    }
   ],
   "source": [
    "#how many missing values in orders df \n",
    "instacart_orders_df.isna().sum()"
   ]
  },
  {
   "cell_type": "code",
   "execution_count": 34,
   "id": "166e5a86",
   "metadata": {
    "scrolled": true
   },
   "outputs": [
    {
     "data": {
      "text/plain": [
       "order_id                  0\n",
       "user_id                   0\n",
       "order_number              0\n",
       "order_dow                 0\n",
       "order_hour_of_day         0\n",
       "days_since_prior_order    0\n",
       "dtype: int64"
      ]
     },
     "execution_count": 34,
     "metadata": {},
     "output_type": "execute_result"
    }
   ],
   "source": [
    "# Are there any missing values where it's not a customer's first order?\n",
    "missing_orders_df=instacart_orders_df[(instacart_orders_df['order_number'] != 1)].isna().sum()\n",
    "missing_orders_df"
   ]
  },
  {
   "cell_type": "markdown",
   "id": "69dc9ca4",
   "metadata": {},
   "source": [
    "### `order_products` data frame"
   ]
  },
  {
   "cell_type": "code",
   "execution_count": 35,
   "id": "b8240253",
   "metadata": {},
   "outputs": [
    {
     "data": {
      "text/plain": [
       "order_id               0\n",
       "product_id             0\n",
       "add_to_cart_order    836\n",
       "reordered              0\n",
       "dtype: int64"
      ]
     },
     "execution_count": 35,
     "metadata": {},
     "output_type": "execute_result"
    }
   ],
   "source": [
    "#how many missing values\n",
    "order_products_df.isna().sum()"
   ]
  },
  {
   "cell_type": "code",
   "execution_count": 36,
   "id": "9a78e5ee",
   "metadata": {},
   "outputs": [
    {
     "data": {
      "text/plain": [
       "(1.0, 64.0)"
      ]
     },
     "execution_count": 36,
     "metadata": {},
     "output_type": "execute_result"
    }
   ],
   "source": [
    "# What are the min and max values in this column?\n",
    "min_value = order_products_df['add_to_cart_order'].min()\n",
    "max_value = order_products_df['add_to_cart_order'].max()\n",
    "min_value, max_value"
   ]
  },
  {
   "cell_type": "code",
   "execution_count": 37,
   "id": "ab9d0c2b",
   "metadata": {},
   "outputs": [
    {
     "data": {
      "text/html": [
       "<div>\n",
       "<style scoped>\n",
       "    .dataframe tbody tr th:only-of-type {\n",
       "        vertical-align: middle;\n",
       "    }\n",
       "\n",
       "    .dataframe tbody tr th {\n",
       "        vertical-align: top;\n",
       "    }\n",
       "\n",
       "    .dataframe thead th {\n",
       "        text-align: right;\n",
       "    }\n",
       "</style>\n",
       "<table border=\"1\" class=\"dataframe\">\n",
       "  <thead>\n",
       "    <tr style=\"text-align: right;\">\n",
       "      <th></th>\n",
       "      <th>order_id</th>\n",
       "      <th>product_id</th>\n",
       "      <th>add_to_cart_order</th>\n",
       "      <th>reordered</th>\n",
       "    </tr>\n",
       "  </thead>\n",
       "  <tbody>\n",
       "    <tr>\n",
       "      <th>737</th>\n",
       "      <td>2449164</td>\n",
       "      <td>5068</td>\n",
       "      <td>NaN</td>\n",
       "      <td>0</td>\n",
       "    </tr>\n",
       "    <tr>\n",
       "      <th>9926</th>\n",
       "      <td>1968313</td>\n",
       "      <td>43867</td>\n",
       "      <td>NaN</td>\n",
       "      <td>0</td>\n",
       "    </tr>\n",
       "    <tr>\n",
       "      <th>14394</th>\n",
       "      <td>2926893</td>\n",
       "      <td>11688</td>\n",
       "      <td>NaN</td>\n",
       "      <td>0</td>\n",
       "    </tr>\n",
       "    <tr>\n",
       "      <th>16418</th>\n",
       "      <td>1717990</td>\n",
       "      <td>4142</td>\n",
       "      <td>NaN</td>\n",
       "      <td>0</td>\n",
       "    </tr>\n",
       "    <tr>\n",
       "      <th>30114</th>\n",
       "      <td>1959075</td>\n",
       "      <td>42828</td>\n",
       "      <td>NaN</td>\n",
       "      <td>1</td>\n",
       "    </tr>\n",
       "    <tr>\n",
       "      <th>...</th>\n",
       "      <td>...</td>\n",
       "      <td>...</td>\n",
       "      <td>...</td>\n",
       "      <td>...</td>\n",
       "    </tr>\n",
       "    <tr>\n",
       "      <th>4505662</th>\n",
       "      <td>1800005</td>\n",
       "      <td>7411</td>\n",
       "      <td>NaN</td>\n",
       "      <td>0</td>\n",
       "    </tr>\n",
       "    <tr>\n",
       "      <th>4511400</th>\n",
       "      <td>1633337</td>\n",
       "      <td>260</td>\n",
       "      <td>NaN</td>\n",
       "      <td>0</td>\n",
       "    </tr>\n",
       "    <tr>\n",
       "      <th>4517562</th>\n",
       "      <td>404157</td>\n",
       "      <td>9517</td>\n",
       "      <td>NaN</td>\n",
       "      <td>0</td>\n",
       "    </tr>\n",
       "    <tr>\n",
       "      <th>4534112</th>\n",
       "      <td>1673227</td>\n",
       "      <td>17835</td>\n",
       "      <td>NaN</td>\n",
       "      <td>0</td>\n",
       "    </tr>\n",
       "    <tr>\n",
       "      <th>4535739</th>\n",
       "      <td>1832957</td>\n",
       "      <td>17949</td>\n",
       "      <td>NaN</td>\n",
       "      <td>1</td>\n",
       "    </tr>\n",
       "  </tbody>\n",
       "</table>\n",
       "<p>836 rows × 4 columns</p>\n",
       "</div>"
      ],
      "text/plain": [
       "         order_id  product_id  add_to_cart_order  reordered\n",
       "737       2449164        5068                NaN          0\n",
       "9926      1968313       43867                NaN          0\n",
       "14394     2926893       11688                NaN          0\n",
       "16418     1717990        4142                NaN          0\n",
       "30114     1959075       42828                NaN          1\n",
       "...           ...         ...                ...        ...\n",
       "4505662   1800005        7411                NaN          0\n",
       "4511400   1633337         260                NaN          0\n",
       "4517562    404157        9517                NaN          0\n",
       "4534112   1673227       17835                NaN          0\n",
       "4535739   1832957       17949                NaN          1\n",
       "\n",
       "[836 rows x 4 columns]"
      ]
     },
     "execution_count": 37,
     "metadata": {},
     "output_type": "execute_result"
    }
   ],
   "source": [
    "# Save all order IDs with at least one missing value in 'add_to_cart_order'\n",
    "order_ids_with_missing_values= order_products_df[(order_products_df['add_to_cart_order'].isna())]\n",
    "order_ids_with_missing_values"
   ]
  },
  {
   "cell_type": "code",
   "execution_count": 38,
   "id": "54c31695",
   "metadata": {},
   "outputs": [
    {
     "data": {
      "text/plain": [
       "True"
      ]
     },
     "execution_count": 38,
     "metadata": {},
     "output_type": "execute_result"
    }
   ],
   "source": [
    "# Do all orders with missing values have more than 64 products?\n",
    "order_ids_with_missing_values= order_products_df[order_products_df['add_to_cart_order'].isna()]['order_id'].unique()\n",
    "filtered_orders =  order_products_df[ order_products_df['order_id'].isin(order_ids_with_missing_values)]\n",
    "order_counts = filtered_orders.groupby('order_id').size()\n",
    "all_orders_above_64 = (order_counts > 64).all()\n",
    "\n",
    "all_orders_above_64"
   ]
  },
  {
   "cell_type": "markdown",
   "id": "e24d6cd5",
   "metadata": {},
   "source": [
    "All orders with missing values have more that 64 products"
   ]
  },
  {
   "cell_type": "code",
   "execution_count": 39,
   "id": "7a987d08",
   "metadata": {},
   "outputs": [
    {
     "data": {
      "text/html": [
       "<div>\n",
       "<style scoped>\n",
       "    .dataframe tbody tr th:only-of-type {\n",
       "        vertical-align: middle;\n",
       "    }\n",
       "\n",
       "    .dataframe tbody tr th {\n",
       "        vertical-align: top;\n",
       "    }\n",
       "\n",
       "    .dataframe thead th {\n",
       "        text-align: right;\n",
       "    }\n",
       "</style>\n",
       "<table border=\"1\" class=\"dataframe\">\n",
       "  <thead>\n",
       "    <tr style=\"text-align: right;\">\n",
       "      <th></th>\n",
       "      <th>order_id</th>\n",
       "      <th>product_id</th>\n",
       "      <th>add_to_cart_order</th>\n",
       "      <th>reordered</th>\n",
       "    </tr>\n",
       "  </thead>\n",
       "  <tbody>\n",
       "    <tr>\n",
       "      <th>0</th>\n",
       "      <td>2141543</td>\n",
       "      <td>11440</td>\n",
       "      <td>17</td>\n",
       "      <td>0</td>\n",
       "    </tr>\n",
       "    <tr>\n",
       "      <th>1</th>\n",
       "      <td>567889</td>\n",
       "      <td>1560</td>\n",
       "      <td>1</td>\n",
       "      <td>1</td>\n",
       "    </tr>\n",
       "    <tr>\n",
       "      <th>2</th>\n",
       "      <td>2261212</td>\n",
       "      <td>26683</td>\n",
       "      <td>1</td>\n",
       "      <td>1</td>\n",
       "    </tr>\n",
       "    <tr>\n",
       "      <th>3</th>\n",
       "      <td>491251</td>\n",
       "      <td>8670</td>\n",
       "      <td>35</td>\n",
       "      <td>1</td>\n",
       "    </tr>\n",
       "    <tr>\n",
       "      <th>4</th>\n",
       "      <td>2571142</td>\n",
       "      <td>1940</td>\n",
       "      <td>5</td>\n",
       "      <td>1</td>\n",
       "    </tr>\n",
       "    <tr>\n",
       "      <th>...</th>\n",
       "      <td>...</td>\n",
       "      <td>...</td>\n",
       "      <td>...</td>\n",
       "      <td>...</td>\n",
       "    </tr>\n",
       "    <tr>\n",
       "      <th>4545002</th>\n",
       "      <td>577211</td>\n",
       "      <td>15290</td>\n",
       "      <td>12</td>\n",
       "      <td>1</td>\n",
       "    </tr>\n",
       "    <tr>\n",
       "      <th>4545003</th>\n",
       "      <td>1219554</td>\n",
       "      <td>21914</td>\n",
       "      <td>9</td>\n",
       "      <td>0</td>\n",
       "    </tr>\n",
       "    <tr>\n",
       "      <th>4545004</th>\n",
       "      <td>692640</td>\n",
       "      <td>47766</td>\n",
       "      <td>4</td>\n",
       "      <td>1</td>\n",
       "    </tr>\n",
       "    <tr>\n",
       "      <th>4545005</th>\n",
       "      <td>319435</td>\n",
       "      <td>691</td>\n",
       "      <td>8</td>\n",
       "      <td>1</td>\n",
       "    </tr>\n",
       "    <tr>\n",
       "      <th>4545006</th>\n",
       "      <td>1398151</td>\n",
       "      <td>28733</td>\n",
       "      <td>9</td>\n",
       "      <td>0</td>\n",
       "    </tr>\n",
       "  </tbody>\n",
       "</table>\n",
       "<p>4545007 rows × 4 columns</p>\n",
       "</div>"
      ],
      "text/plain": [
       "         order_id  product_id  add_to_cart_order  reordered\n",
       "0         2141543       11440                 17          0\n",
       "1          567889        1560                  1          1\n",
       "2         2261212       26683                  1          1\n",
       "3          491251        8670                 35          1\n",
       "4         2571142        1940                  5          1\n",
       "...           ...         ...                ...        ...\n",
       "4545002    577211       15290                 12          1\n",
       "4545003   1219554       21914                  9          0\n",
       "4545004    692640       47766                  4          1\n",
       "4545005    319435         691                  8          1\n",
       "4545006   1398151       28733                  9          0\n",
       "\n",
       "[4545007 rows x 4 columns]"
      ]
     },
     "execution_count": 39,
     "metadata": {},
     "output_type": "execute_result"
    }
   ],
   "source": [
    "# Replace missing values with 999 and convert column to integer type\n",
    "\n",
    "order_products_df = order_products_df.assign(add_to_cart_order=order_products_df['add_to_cart_order'].fillna(999).astype(int))\n",
    "order_products_df"
   ]
  },
  {
   "cell_type": "markdown",
   "id": "d585419c",
   "metadata": {},
   "source": [
    " ## Conclusion\n",
    " \n",
    " Through our data processing we concluded the following: \n",
    " - There are 15 duplicated rows in the `'instacart_orders_df'` data frame.\n",
    " - There are 121 orders placed on Wednesday at 2:00AM.\n",
    " - There are 1465 duplicates in the `'products_df'` column `'product_name'` when we include missing values. There are 207 duplicates when missing values are dropped.\n",
    " - There are no duplicates in the `'departments_df'`\n",
    " - There are no duplicates in the `'aisles_df'`\n",
    " - There are no duplicates in the `'order_products_df'`\n",
    " - The number of missing values in `'product_name'` with `'isle_id'` equal to 100 is the same as the number of missing values in the `'product_name'` column.\n",
    " - The number of missing values in `'missing_products_df'` is the same when filtered for `'department_id'` equal to 21\n",
    " - Both aisle and department that contain missing values is named \"missing\"\n",
    " - All orders with missing values have more that 64 products"
   ]
  },
  {
   "cell_type": "markdown",
   "id": "short-capability",
   "metadata": {},
   "source": [
    "### Verify that the `'order_hour_of_day'` and `'order_dow'` values in the `orders` tables are sensible (i.e. `'order_hour_of_day'` ranges from 0 to 23 and `'order_dow'` ranges from 0 to 6)"
   ]
  },
  {
   "cell_type": "code",
   "execution_count": 40,
   "id": "growing-fruit",
   "metadata": {},
   "outputs": [
    {
     "data": {
      "text/plain": [
       "(True, True)"
      ]
     },
     "execution_count": 40,
     "metadata": {},
     "output_type": "execute_result"
    }
   ],
   "source": [
    "# Check the unique values in 'order_hour_of_day'\n",
    "order_hour_unique = instacart_orders_df['order_hour_of_day'].unique()\n",
    "\n",
    "# Check the unique values in 'order_dow'\n",
    "order_dow_unique = instacart_orders_df['order_dow'].unique()\n",
    "\n",
    "# Verify the ranges\n",
    "order_hour_valid = (order_hour_unique >= 0).all() and (order_hour_unique <= 23).all()\n",
    "order_dow_valid = (order_dow_unique >= 0).all() and (order_dow_unique <= 6).all()\n",
    "\n",
    "order_hour_valid, order_dow_valid"
   ]
  },
  {
   "cell_type": "markdown",
   "id": "7b5bc34c",
   "metadata": {},
   "source": [
    "- For `'order_hour_of_day'` we verified that values range from 0 to 23, confirming that data is correctly representing hours of the day.\n",
    "- For `'order_dow'` we verified that values range from 0 to 6, correctly representing the days of the week."
   ]
  },
  {
   "cell_type": "markdown",
   "id": "a6743a70",
   "metadata": {},
   "source": [
    "###  What time of day do people shop for groceries?"
   ]
  },
  {
   "cell_type": "code",
   "execution_count": 41,
   "id": "a36cca27",
   "metadata": {},
   "outputs": [
    {
     "data": {
      "image/png": "[encoded data removed]",
      "text/plain": [
       "<Figure size 1000x600 with 1 Axes>"
      ]
     },
     "metadata": {},
     "output_type": "display_data"
    }
   ],
   "source": [
    "orders_by_hour = instacart_orders_df['order_hour_of_day'].value_counts().sort_index()\n",
    "plt.figure(figsize=(10, 6))\n",
    "plt.bar(orders_by_hour.index, orders_by_hour.values)\n",
    "plt.xlabel('Hour of the Day')\n",
    "plt.ylabel('Number of Orders')\n",
    "plt.title('Number of Orders for Each Hour of the Day')\n",
    "plt.show()"
   ]
  },
  {
   "cell_type": "markdown",
   "id": "11270eed",
   "metadata": {},
   "source": [
    "People are mostly shopping for groceries between 10am and 3pm"
   ]
  },
  {
   "cell_type": "markdown",
   "id": "documented-command",
   "metadata": {},
   "source": [
    "###  What day of the week do people shop for groceries?"
   ]
  },
  {
   "cell_type": "code",
   "execution_count": 42,
   "id": "chief-digit",
   "metadata": {},
   "outputs": [
    {
     "data": {
      "image/png": "[encoded data removed]",
      "text/plain": [
       "<Figure size 1000x600 with 1 Axes>"
      ]
     },
     "metadata": {},
     "output_type": "display_data"
    }
   ],
   "source": [
    "orders_by_dow = instacart_orders_df['order_dow'].value_counts().sort_index()\n",
    "plt.figure(figsize=(10, 6))\n",
    "plt.bar(orders_by_dow.index, orders_by_dow.values)\n",
    "plt.xlabel('Day of the Week')\n",
    "plt.ylabel('Number of Orders')\n",
    "plt.title('Number of Orders for Each Day of the Week')\n",
    "plt.show()"
   ]
  },
  {
   "cell_type": "markdown",
   "id": "dominant-lightning",
   "metadata": {},
   "source": [
    "Orders are mostly placed on Sunday and Monday"
   ]
  },
  {
   "cell_type": "markdown",
   "id": "cutting-concert",
   "metadata": {},
   "source": [
    "### How long do people wait until placing another order?"
   ]
  },
  {
   "cell_type": "code",
   "execution_count": 43,
   "id": "c231f523",
   "metadata": {},
   "outputs": [
    {
     "data": {
      "image/png": "[encoded data removed]",
      "text/plain": [
       "<Figure size 1000x600 with 1 Axes>"
      ]
     },
     "metadata": {},
     "output_type": "display_data"
    }
   ],
   "source": [
    "plt.figure(figsize=(10, 6))\n",
    "plt.hist(instacart_orders_df['days_since_prior_order'], bins=30, edgecolor='black')\n",
    "plt.xlabel('Days Since Prior Order')\n",
    "plt.ylabel('Number of Orders')\n",
    "plt.title('Distribution of Days Since Prior Order')\n",
    "plt.show()"
   ]
  },
  {
   "cell_type": "markdown",
   "id": "discrete-vertex",
   "metadata": {},
   "source": [
    "People typically wait 7-8 days or a month between orders placed"
   ]
  },
  {
   "cell_type": "markdown",
   "id": "packed-classic",
   "metadata": {},
   "source": [
    "###  Is there a difference in `'order_hour_of_day'` distributions on Wednesdays and Saturdays?\n"
   ]
  },
  {
   "cell_type": "code",
   "execution_count": 44,
   "id": "d89b8403",
   "metadata": {},
   "outputs": [],
   "source": [
    "#filter orders by day \n",
    "wednesday_orders = instacart_orders_df[instacart_orders_df['order_dow'] == 3]['order_hour_of_day']\n",
    "saturday_orders = instacart_orders_df[instacart_orders_df['order_dow'] == 6]['order_hour_of_day']"
   ]
  },
  {
   "cell_type": "code",
   "execution_count": 45,
   "id": "94e54e8a",
   "metadata": {},
   "outputs": [
    {
     "data": {
      "image/png": "[encoded data removed]",
      "text/plain": [
       "<Figure size 1000x600 with 1 Axes>"
      ]
     },
     "metadata": {},
     "output_type": "display_data"
    }
   ],
   "source": [
    "plt.figure(figsize=(10, 6))\n",
    "plt.hist(wednesday_orders, bins=24, alpha=0.5, label='Wednesday', edgecolor='black')\n",
    "plt.hist(saturday_orders, bins=24, alpha=0.5, label='Saturday', edgecolor='black')\n",
    "plt.xlabel('Hour of the Day')\n",
    "plt.ylabel('Number of Orders')\n",
    "plt.title('Distribution of Orders by Hour for Wednesday and Saturday')\n",
    "plt.legend()\n",
    "plt.show()"
   ]
  },
  {
   "cell_type": "markdown",
   "id": "3dfe6d27",
   "metadata": {},
   "source": [
    "There are usually more orders placed on Saturday than Wednesday between the times of 11am to 5 pm."
   ]
  },
  {
   "cell_type": "markdown",
   "id": "e3891143",
   "metadata": {},
   "source": [
    "### What's the distribution for the number of orders per customer?"
   ]
  },
  {
   "cell_type": "code",
   "execution_count": 46,
   "id": "d8c26c23",
   "metadata": {},
   "outputs": [],
   "source": [
    "orders_per_customer = instacart_orders_df.groupby('user_id')['order_id'].count()"
   ]
  },
  {
   "cell_type": "code",
   "execution_count": 47,
   "id": "00e69a66",
   "metadata": {},
   "outputs": [
    {
     "data": {
      "image/png": "[encoded data removed]",
      "text/plain": [
       "<Figure size 1000x600 with 1 Axes>"
      ]
     },
     "metadata": {},
     "output_type": "display_data"
    }
   ],
   "source": [
    "plt.figure(figsize=(10, 6))\n",
    "plt.hist(orders_per_customer, bins=range(2, orders_per_customer.max()+1), edgecolor='black')\n",
    "plt.xlabel('Number of Orders')\n",
    "plt.ylabel('Number of Customers')\n",
    "plt.title('Distribution of Number of Orders per Customer')\n",
    "plt.show()"
   ]
  },
  {
   "cell_type": "markdown",
   "id": "2358e043",
   "metadata": {},
   "source": [
    "The distribution shows that most customers have placed a relatively small number of orders, with a decreasing number of customers as the number of orders increases. "
   ]
  },
  {
   "cell_type": "markdown",
   "id": "54a0319c",
   "metadata": {},
   "source": [
    "### What are the top 20 popular products?"
   ]
  },
  {
   "cell_type": "code",
   "execution_count": 48,
   "id": "exterior-arizona",
   "metadata": {
    "scrolled": true
   },
   "outputs": [
    {
     "name": "stdout",
     "output_type": "stream",
     "text": [
      "    product_id  frequency              product_name\n",
      "0        24852      66050                    Banana\n",
      "1        13176      53297    Bag of Organic Bananas\n",
      "2        21137      37039      Organic Strawberries\n",
      "3        21903      33971      Organic Baby Spinach\n",
      "4        47209      29773      Organic Hass Avocado\n",
      "5        47766      24689           Organic Avocado\n",
      "6        47626      21495               Large Lemon\n",
      "7        16797      20018              Strawberries\n",
      "8        26209      19690                     Limes\n",
      "9        27845      19600        Organic Whole Milk\n",
      "10       27966      19197       Organic Raspberries\n",
      "11       22935      15898      Organic Yellow Onion\n",
      "12       24964      15292            Organic Garlic\n",
      "13       45007      14584          Organic Zucchini\n",
      "14       39275      13879       Organic Blueberries\n",
      "15       49683      13675            Cucumber Kirby\n",
      "16       28204      12544        Organic Fuji Apple\n",
      "17        5876      12232             Organic Lemon\n",
      "18        8277      11993  Apple Honeycrisp Organic\n",
      "19       40706      11781    Organic Grape Tomatoes\n"
     ]
    }
   ],
   "source": [
    "top_20_products = order_products_df['product_id'].value_counts().head(20)\n",
    "top_20_products = pd.DataFrame({'product_id': top_20_products.index, 'frequency': top_20_products.values})\n",
    "top_20_products = top_20_products.merge(products_df[['product_id', 'product_name']], on='product_id')\n",
    "print(top_20_products)"
   ]
  },
  {
   "cell_type": "markdown",
   "id": "7df00f47",
   "metadata": {},
   "source": [
    "The most frequently ordered products are primarily fresh produce like bananas, organic bananas, organic strawberries, and organic baby spinach. This suggests a preference for fresh and organic items among Instacart users."
   ]
  },
  {
   "cell_type": "markdown",
   "id": "romantic-deposit",
   "metadata": {},
   "source": [
    "### How many items do people typically buy in one order? What does the distribution look like?"
   ]
  },
  {
   "cell_type": "code",
   "execution_count": 49,
   "id": "virtual-punch",
   "metadata": {},
   "outputs": [
    {
     "data": {
      "text/plain": [
       "10.098983215049127"
      ]
     },
     "execution_count": 49,
     "metadata": {},
     "output_type": "execute_result"
    }
   ],
   "source": [
    "items_per_order = order_products_df['order_id'].value_counts()\n",
    "items_per_order.mean()"
   ]
  },
  {
   "cell_type": "markdown",
   "id": "b05b64e9",
   "metadata": {},
   "source": [
    "On average people buy 10 items per order"
   ]
  },
  {
   "cell_type": "code",
   "execution_count": 50,
   "id": "sensitive-breathing",
   "metadata": {},
   "outputs": [
    {
     "data": {
      "image/png": "[encoded data removed]",
      "text/plain": [
       "<Figure size 1000x600 with 1 Axes>"
      ]
     },
     "metadata": {},
     "output_type": "display_data"
    }
   ],
   "source": [
    "plt.figure(figsize=(10, 6))\n",
    "plt.hist(items_per_order, bins=range(1, items_per_order.max()+1), edgecolor='black')\n",
    "plt.xlabel('Number of Items')\n",
    "plt.ylabel('Number of Orders')\n",
    "plt.title('Distribution of Number of Items per Order')\n",
    "plt.show()"
   ]
  },
  {
   "cell_type": "markdown",
   "id": "e8450886",
   "metadata": {},
   "source": [
    "On average, people buy around 10 items per order. The histogram shows a wide range of order sizes, indicating diverse shopping habits."
   ]
  },
  {
   "cell_type": "markdown",
   "id": "5e6b5537",
   "metadata": {},
   "source": [
    "###  What are the top 20 items that are reordered most frequently?"
   ]
  },
  {
   "cell_type": "code",
   "execution_count": 51,
   "id": "9374e55a",
   "metadata": {},
   "outputs": [
    {
     "name": "stdout",
     "output_type": "stream",
     "text": [
      "    product_id  frequency              product_name\n",
      "0        24852      55763                    Banana\n",
      "1        13176      44450    Bag of Organic Bananas\n",
      "2        21137      28639      Organic Strawberries\n",
      "3        21903      26233      Organic Baby Spinach\n",
      "4        47209      23629      Organic Hass Avocado\n",
      "5        47766      18743           Organic Avocado\n",
      "6        27845      16251        Organic Whole Milk\n",
      "7        47626      15044               Large Lemon\n",
      "8        27966      14748       Organic Raspberries\n",
      "9        16797      13945              Strawberries\n",
      "10       26209      13327                     Limes\n",
      "11       22935      11145      Organic Yellow Onion\n",
      "12       24964      10411            Organic Garlic\n",
      "13       45007      10076          Organic Zucchini\n",
      "14       49683       9538            Cucumber Kirby\n",
      "15       28204       8989        Organic Fuji Apple\n",
      "16        8277       8836  Apple Honeycrisp Organic\n",
      "17       39275       8799       Organic Blueberries\n",
      "18        5876       8412             Organic Lemon\n",
      "19       49235       8389       Organic Half & Half\n"
     ]
    }
   ],
   "source": [
    "top_20_reordered = order_products_df[order_products_df['reordered'] == 1]['product_id'].value_counts().head(20)\n",
    "top_20_reordered = pd.DataFrame({'product_id': top_20_reordered.index, 'frequency': top_20_reordered.values})\n",
    "top_20_reordered = top_20_reordered.merge(products_df[['product_id', 'product_name']], on='product_id')\n",
    "print(top_20_reordered)"
   ]
  },
  {
   "cell_type": "markdown",
   "id": "5afce11c",
   "metadata": {},
   "source": [
    "The top 20 reordered items include bananas, organic bananas, and organic strawberries, highlighting consistent preferences for certain products."
   ]
  },
  {
   "cell_type": "markdown",
   "id": "9d312b14",
   "metadata": {},
   "source": [
    "### For each product, what proportion of its orders are reorders?"
   ]
  },
  {
   "cell_type": "code",
   "execution_count": 52,
   "id": "8ae9f4b1",
   "metadata": {},
   "outputs": [
    {
     "name": "stdout",
     "output_type": "stream",
     "text": [
      "   product_id  reorder_proportion  \\\n",
      "0           1            0.564286   \n",
      "1           2            0.000000   \n",
      "2           3            0.738095   \n",
      "3           4            0.510204   \n",
      "4           7            0.500000   \n",
      "\n",
      "                                        product_name  \n",
      "0                         Chocolate Sandwich Cookies  \n",
      "1                                   All-Seasons Salt  \n",
      "2               Robust Golden Unsweetened Oolong Tea  \n",
      "3  Smart Ones Classic Favorites Mini Rigatoni Wit...  \n",
      "4                     Pure Coconut Water With Orange  \n"
     ]
    }
   ],
   "source": [
    "product_reorders = order_products_df.groupby('product_id')['reordered'].mean().reset_index()\n",
    "product_reorders = product_reorders.merge(products_df[['product_id', 'product_name']], on='product_id')\n",
    "product_reorders = product_reorders.rename(columns={'reordered': 'reorder_proportion'})\n",
    "print(product_reorders.head())"
   ]
  },
  {
   "cell_type": "markdown",
   "id": "subject-boxing",
   "metadata": {},
   "source": [
    "### For each customer, what proportion of their products ordered are reorders?"
   ]
  },
  {
   "cell_type": "code",
   "execution_count": 53,
   "id": "medical-couple",
   "metadata": {
    "scrolled": true
   },
   "outputs": [
    {
     "name": "stdout",
     "output_type": "stream",
     "text": [
      "   user_id  reorder_proportion\n",
      "0        2            0.038462\n",
      "1        4            0.000000\n",
      "2        5            0.666667\n",
      "3        6            0.000000\n",
      "4        7            0.944444\n"
     ]
    }
   ],
   "source": [
    "customer_reorders = order_products_df.groupby('order_id')['reordered'].mean().reset_index()\n",
    "customer_reorders = customer_reorders.merge(instacart_orders_df[['order_id', 'user_id']], on='order_id')\n",
    "customer_reorders = customer_reorders.groupby('user_id')['reordered'].mean().reset_index()\n",
    "customer_reorders = customer_reorders.rename(columns={'reordered': 'reorder_proportion'})\n",
    "print(customer_reorders.head())"
   ]
  },
  {
   "cell_type": "markdown",
   "id": "fbb175b4",
   "metadata": {},
   "source": [
    "For each product and each customer, we calculated the proportion of orders that are reorders, revealing customer loyalty and product popularity."
   ]
  },
  {
   "cell_type": "markdown",
   "id": "92d35137",
   "metadata": {},
   "source": [
    "###  What are the top 20 items that people put in their carts first? "
   ]
  },
  {
   "cell_type": "code",
   "execution_count": 54,
   "id": "0ae57274",
   "metadata": {
    "scrolled": true
   },
   "outputs": [
    {
     "name": "stdout",
     "output_type": "stream",
     "text": [
      "    product_id  count                 product_name\n",
      "0        24852  15562                       Banana\n",
      "1        13176  11026       Bag of Organic Bananas\n",
      "2        27845   4363           Organic Whole Milk\n",
      "3        21137   3946         Organic Strawberries\n",
      "4        47209   3390         Organic Hass Avocado\n",
      "5        21903   3336         Organic Baby Spinach\n",
      "6        47766   3044              Organic Avocado\n",
      "7        19660   2336                 Spring Water\n",
      "8        16797   2308                 Strawberries\n",
      "9        27966   2024          Organic Raspberries\n",
      "10       44632   1914   Sparkling Water Grapefruit\n",
      "11       49235   1797          Organic Half & Half\n",
      "12       47626   1737                  Large Lemon\n",
      "13         196   1733                         Soda\n",
      "14       38689   1397     Organic Reduced Fat Milk\n",
      "15       26209   1370                        Limes\n",
      "16       12341   1340                Hass Avocados\n",
      "17        5785   1310  Organic Reduced Fat 2% Milk\n",
      "18       27086   1309                  Half & Half\n",
      "19       22935   1246         Organic Yellow Onion\n"
     ]
    }
   ],
   "source": [
    "first_items = order_products_df[order_products_df['add_to_cart_order'] == 1]['product_id'].value_counts().head(20)\n",
    "first_items = pd.DataFrame({'product_id': first_items.index, 'count': first_items.values})\n",
    "first_items = first_items.merge(products_df[['product_id', 'product_name']], on='product_id')\n",
    "print(first_items)"
   ]
  },
  {
   "cell_type": "markdown",
   "id": "1b6dfb88",
   "metadata": {},
   "source": [
    "The analysis of the first items placed in the cart shows a strong preference for bananas, bag of organic bananas, and organic whole milk. This indicates that customers likely prioritize these essential items when starting their shopping."
   ]
  },
  {
   "cell_type": "markdown",
   "id": "388876ea",
   "metadata": {},
   "source": [
    "## Conculsion\n",
    "\n",
    "Through this comprehensive analysis, we gained valuable insights into customer shopping behaviors on Instacart. The data reveals preferences for shopping times, popular products, and typical order sizes. These findings can help Instacart and similar platforms tailor their services to meet customer needs, optimize inventory management, and enhance the overall shopping experience.\n",
    "\n",
    "\n",
    "\n",
    "\n",
    "\n",
    "\n"
   ]
  }
 ],
 "metadata": {
  "ExecuteTimeLog": [
   {
    "duration": 322,
    "start_time": "2024-06-02T03:47:43.923Z"
   },
   {
    "duration": 21,
    "start_time": "2024-06-02T03:47:56.734Z"
   },
   {
    "duration": 510,
    "start_time": "2024-06-02T03:47:59.522Z"
   },
   {
    "duration": 906,
    "start_time": "2024-06-02T03:48:01.633Z"
   },
   {
    "duration": 475,
    "start_time": "2024-06-02T03:48:42.049Z"
   },
   {
    "duration": 408,
    "start_time": "2024-06-02T03:48:45.313Z"
   },
   {
    "duration": 323,
    "start_time": "2024-06-02T07:09:34.093Z"
   },
   {
    "duration": 447,
    "start_time": "2024-06-02T07:09:39.253Z"
   },
   {
    "duration": 475,
    "start_time": "2024-06-02T07:09:39.971Z"
   },
   {
    "duration": 420,
    "start_time": "2024-06-02T07:10:00.084Z"
   },
   {
    "duration": 4149,
    "start_time": "2024-06-02T07:13:38.201Z"
   },
   {
    "duration": 0,
    "start_time": "2024-06-02T07:13:42.352Z"
   },
   {
    "duration": 0,
    "start_time": "2024-06-02T07:13:46.486Z"
   },
   {
    "duration": 3842,
    "start_time": "2024-06-02T07:13:56.632Z"
   },
   {
    "duration": 4,
    "start_time": "2024-06-02T07:25:37.319Z"
   },
   {
    "duration": 3864,
    "start_time": "2024-06-02T07:25:37.948Z"
   },
   {
    "duration": 509,
    "start_time": "2024-06-03T04:27:12.839Z"
   },
   {
    "duration": 514,
    "start_time": "2024-06-03T04:27:13.351Z"
   },
   {
    "duration": 84,
    "start_time": "2024-06-03T04:27:13.868Z"
   },
   {
    "duration": 3922,
    "start_time": "2024-06-03T04:27:13.956Z"
   },
   {
    "duration": 10,
    "start_time": "2024-06-03T04:27:17.881Z"
   },
   {
    "duration": 8,
    "start_time": "2024-06-03T04:27:17.894Z"
   },
   {
    "duration": 841,
    "start_time": "2024-06-03T04:54:08.154Z"
   },
   {
    "duration": 498,
    "start_time": "2024-06-03T04:54:28.312Z"
   },
   {
    "duration": 817,
    "start_time": "2024-06-03T04:54:28.814Z"
   },
   {
    "duration": 0,
    "start_time": "2024-06-03T04:54:29.636Z"
   },
   {
    "duration": 0,
    "start_time": "2024-06-03T04:54:29.638Z"
   },
   {
    "duration": 0,
    "start_time": "2024-06-03T04:54:29.641Z"
   },
   {
    "duration": 0,
    "start_time": "2024-06-03T04:54:29.643Z"
   },
   {
    "duration": 0,
    "start_time": "2024-06-03T04:54:29.645Z"
   },
   {
    "duration": 0,
    "start_time": "2024-06-03T04:54:29.647Z"
   },
   {
    "duration": 0,
    "start_time": "2024-06-03T04:54:29.651Z"
   },
   {
    "duration": 0,
    "start_time": "2024-06-03T04:54:29.655Z"
   },
   {
    "duration": 0,
    "start_time": "2024-06-03T04:54:29.658Z"
   },
   {
    "duration": 0,
    "start_time": "2024-06-03T04:54:29.661Z"
   },
   {
    "duration": 0,
    "start_time": "2024-06-03T04:54:29.663Z"
   },
   {
    "duration": 0,
    "start_time": "2024-06-03T04:54:29.665Z"
   },
   {
    "duration": 0,
    "start_time": "2024-06-03T04:54:29.667Z"
   },
   {
    "duration": 0,
    "start_time": "2024-06-03T04:54:29.669Z"
   },
   {
    "duration": 0,
    "start_time": "2024-06-03T04:54:29.726Z"
   },
   {
    "duration": 0,
    "start_time": "2024-06-03T04:54:29.728Z"
   },
   {
    "duration": 0,
    "start_time": "2024-06-03T04:54:29.730Z"
   },
   {
    "duration": 0,
    "start_time": "2024-06-03T04:54:29.733Z"
   },
   {
    "duration": 0,
    "start_time": "2024-06-03T04:54:29.735Z"
   },
   {
    "duration": 0,
    "start_time": "2024-06-03T04:54:29.737Z"
   },
   {
    "duration": 0,
    "start_time": "2024-06-03T04:54:29.739Z"
   },
   {
    "duration": 0,
    "start_time": "2024-06-03T04:54:29.742Z"
   },
   {
    "duration": 0,
    "start_time": "2024-06-03T04:54:29.744Z"
   },
   {
    "duration": 0,
    "start_time": "2024-06-03T04:54:29.746Z"
   },
   {
    "duration": 477,
    "start_time": "2024-06-03T04:54:39.483Z"
   },
   {
    "duration": 199,
    "start_time": "2024-06-03T04:54:55.226Z"
   },
   {
    "duration": 54,
    "start_time": "2024-06-03T04:55:39.608Z"
   },
   {
    "duration": 63,
    "start_time": "2024-06-03T04:55:52.123Z"
   },
   {
    "duration": 1276,
    "start_time": "2024-06-03T04:56:22.375Z"
   },
   {
    "duration": 31,
    "start_time": "2024-06-03T04:56:55.769Z"
   },
   {
    "duration": 16,
    "start_time": "2024-06-03T04:56:59.875Z"
   },
   {
    "duration": 15,
    "start_time": "2024-06-03T04:57:12.676Z"
   },
   {
    "duration": 216,
    "start_time": "2024-06-03T04:59:31.140Z"
   },
   {
    "duration": 243,
    "start_time": "2024-06-03T04:59:46.869Z"
   },
   {
    "duration": 220,
    "start_time": "2024-06-03T05:00:01.618Z"
   },
   {
    "duration": 23,
    "start_time": "2024-06-03T05:08:07.182Z"
   },
   {
    "duration": 38,
    "start_time": "2024-06-03T05:08:30.664Z"
   },
   {
    "duration": 13,
    "start_time": "2024-06-03T05:10:21.360Z"
   },
   {
    "duration": 16,
    "start_time": "2024-06-03T05:10:21.865Z"
   },
   {
    "duration": 22,
    "start_time": "2024-06-03T05:10:22.390Z"
   },
   {
    "duration": 20,
    "start_time": "2024-06-03T05:23:17.028Z"
   },
   {
    "duration": 17,
    "start_time": "2024-06-03T05:30:57.864Z"
   },
   {
    "duration": 455,
    "start_time": "2024-06-03T05:31:30.172Z"
   },
   {
    "duration": 241,
    "start_time": "2024-06-03T05:31:30.631Z"
   },
   {
    "duration": 89,
    "start_time": "2024-06-03T05:31:30.877Z"
   },
   {
    "duration": 1345,
    "start_time": "2024-06-03T05:31:30.975Z"
   },
   {
    "duration": 14,
    "start_time": "2024-06-03T05:31:32.326Z"
   },
   {
    "duration": 15,
    "start_time": "2024-06-03T05:31:32.346Z"
   },
   {
    "duration": 22,
    "start_time": "2024-06-03T05:31:32.366Z"
   },
   {
    "duration": 49,
    "start_time": "2024-06-03T05:31:32.391Z"
   },
   {
    "duration": 15,
    "start_time": "2024-06-03T05:31:32.443Z"
   },
   {
    "duration": 16,
    "start_time": "2024-06-03T05:31:32.465Z"
   },
   {
    "duration": 56,
    "start_time": "2024-06-03T05:31:32.484Z"
   },
   {
    "duration": 4,
    "start_time": "2024-06-03T05:31:32.544Z"
   },
   {
    "duration": 4,
    "start_time": "2024-06-03T05:31:32.551Z"
   },
   {
    "duration": 5,
    "start_time": "2024-06-03T05:31:32.557Z"
   },
   {
    "duration": 4,
    "start_time": "2024-06-03T05:31:32.567Z"
   },
   {
    "duration": 53,
    "start_time": "2024-06-03T05:31:32.575Z"
   },
   {
    "duration": 4,
    "start_time": "2024-06-03T05:31:32.631Z"
   },
   {
    "duration": 4,
    "start_time": "2024-06-03T05:31:32.640Z"
   },
   {
    "duration": 5,
    "start_time": "2024-06-03T05:31:32.647Z"
   },
   {
    "duration": 4,
    "start_time": "2024-06-03T05:31:32.655Z"
   },
   {
    "duration": 3,
    "start_time": "2024-06-03T05:31:32.663Z"
   },
   {
    "duration": 4,
    "start_time": "2024-06-03T05:31:32.670Z"
   },
   {
    "duration": 4,
    "start_time": "2024-06-03T05:31:32.726Z"
   },
   {
    "duration": 4,
    "start_time": "2024-06-03T05:31:32.735Z"
   },
   {
    "duration": 5,
    "start_time": "2024-06-03T05:31:32.742Z"
   },
   {
    "duration": 3,
    "start_time": "2024-06-03T05:31:32.751Z"
   },
   {
    "duration": 5,
    "start_time": "2024-06-03T05:31:32.760Z"
   },
   {
    "duration": 55,
    "start_time": "2024-06-03T05:31:32.772Z"
   },
   {
    "duration": 4,
    "start_time": "2024-06-03T05:31:32.830Z"
   },
   {
    "duration": 4,
    "start_time": "2024-06-03T05:31:32.838Z"
   },
   {
    "duration": 4,
    "start_time": "2024-06-03T05:31:32.845Z"
   },
   {
    "duration": 19,
    "start_time": "2024-06-03T05:42:14.645Z"
   },
   {
    "duration": 13,
    "start_time": "2024-06-03T05:42:15.614Z"
   },
   {
    "duration": 345,
    "start_time": "2024-06-04T01:46:26.726Z"
   },
   {
    "duration": 3,
    "start_time": "2024-06-04T01:46:34.275Z"
   },
   {
    "duration": 460,
    "start_time": "2024-06-04T01:46:40.630Z"
   },
   {
    "duration": 276,
    "start_time": "2024-06-04T01:46:41.094Z"
   },
   {
    "duration": 115,
    "start_time": "2024-06-04T01:46:41.373Z"
   },
   {
    "duration": 1480,
    "start_time": "2024-06-04T01:46:41.491Z"
   },
   {
    "duration": 26,
    "start_time": "2024-06-04T01:46:42.975Z"
   },
   {
    "duration": 15,
    "start_time": "2024-06-04T01:46:43.004Z"
   },
   {
    "duration": 21,
    "start_time": "2024-06-04T01:46:43.021Z"
   },
   {
    "duration": 18,
    "start_time": "2024-06-04T01:46:43.046Z"
   },
   {
    "duration": 44,
    "start_time": "2024-06-04T01:46:43.067Z"
   },
   {
    "duration": 15,
    "start_time": "2024-06-04T01:46:43.114Z"
   },
   {
    "duration": 16,
    "start_time": "2024-06-04T01:46:43.131Z"
   },
   {
    "duration": 207,
    "start_time": "2024-06-04T01:46:43.151Z"
   },
   {
    "duration": 3,
    "start_time": "2024-06-04T01:46:43.362Z"
   },
   {
    "duration": 5,
    "start_time": "2024-06-04T01:46:43.376Z"
   },
   {
    "duration": 4,
    "start_time": "2024-06-04T01:46:43.403Z"
   },
   {
    "duration": 4,
    "start_time": "2024-06-04T01:46:43.411Z"
   },
   {
    "duration": 3,
    "start_time": "2024-06-04T01:46:43.418Z"
   },
   {
    "duration": 3,
    "start_time": "2024-06-04T01:46:43.424Z"
   },
   {
    "duration": 3,
    "start_time": "2024-06-04T01:46:43.430Z"
   },
   {
    "duration": 4,
    "start_time": "2024-06-04T01:46:43.435Z"
   },
   {
    "duration": 5,
    "start_time": "2024-06-04T01:46:43.442Z"
   },
   {
    "duration": 52,
    "start_time": "2024-06-04T01:46:43.450Z"
   },
   {
    "duration": 3,
    "start_time": "2024-06-04T01:46:43.507Z"
   },
   {
    "duration": 3,
    "start_time": "2024-06-04T01:46:43.514Z"
   },
   {
    "duration": 18,
    "start_time": "2024-06-04T01:46:43.520Z"
   },
   {
    "duration": 3,
    "start_time": "2024-06-04T01:46:43.541Z"
   },
   {
    "duration": 3,
    "start_time": "2024-06-04T01:46:43.548Z"
   },
   {
    "duration": 3,
    "start_time": "2024-06-04T01:46:43.555Z"
   },
   {
    "duration": 40,
    "start_time": "2024-06-04T01:46:43.562Z"
   },
   {
    "duration": 4,
    "start_time": "2024-06-04T01:46:43.605Z"
   },
   {
    "duration": 3,
    "start_time": "2024-06-04T01:46:43.613Z"
   },
   {
    "duration": 325,
    "start_time": "2024-06-04T01:49:03.020Z"
   },
   {
    "duration": 347,
    "start_time": "2024-06-04T01:49:25.291Z"
   },
   {
    "duration": 359,
    "start_time": "2024-06-04T01:49:38.667Z"
   },
   {
    "duration": 173,
    "start_time": "2024-06-04T01:49:50.739Z"
   },
   {
    "duration": 172,
    "start_time": "2024-06-04T01:49:58.503Z"
   },
   {
    "duration": 191,
    "start_time": "2024-06-04T01:50:06.551Z"
   },
   {
    "duration": 171,
    "start_time": "2024-06-04T01:56:36.221Z"
   },
   {
    "duration": 19,
    "start_time": "2024-06-04T02:02:10.235Z"
   },
   {
    "duration": 13,
    "start_time": "2024-06-04T02:02:14.502Z"
   },
   {
    "duration": 447,
    "start_time": "2024-06-04T02:02:22.633Z"
   },
   {
    "duration": 225,
    "start_time": "2024-06-04T02:02:23.083Z"
   },
   {
    "duration": 66,
    "start_time": "2024-06-04T02:02:23.311Z"
   },
   {
    "duration": 1291,
    "start_time": "2024-06-04T02:02:23.382Z"
   },
   {
    "duration": 12,
    "start_time": "2024-06-04T02:02:24.676Z"
   },
   {
    "duration": 13,
    "start_time": "2024-06-04T02:02:24.703Z"
   },
   {
    "duration": 19,
    "start_time": "2024-06-04T02:02:24.719Z"
   },
   {
    "duration": 15,
    "start_time": "2024-06-04T02:02:24.741Z"
   },
   {
    "duration": 49,
    "start_time": "2024-06-04T02:02:24.761Z"
   },
   {
    "duration": 16,
    "start_time": "2024-06-04T02:02:24.816Z"
   },
   {
    "duration": 14,
    "start_time": "2024-06-04T02:02:24.835Z"
   },
   {
    "duration": 221,
    "start_time": "2024-06-04T02:02:24.853Z"
   },
   {
    "duration": 28,
    "start_time": "2024-06-04T02:02:25.077Z"
   },
   {
    "duration": 4,
    "start_time": "2024-06-04T02:02:25.108Z"
   },
   {
    "duration": 4,
    "start_time": "2024-06-04T02:02:25.117Z"
   },
   {
    "duration": 4,
    "start_time": "2024-06-04T02:02:25.124Z"
   },
   {
    "duration": 4,
    "start_time": "2024-06-04T02:02:25.132Z"
   },
   {
    "duration": 5,
    "start_time": "2024-06-04T02:02:25.139Z"
   },
   {
    "duration": 3,
    "start_time": "2024-06-04T02:02:25.201Z"
   },
   {
    "duration": 4,
    "start_time": "2024-06-04T02:02:25.207Z"
   },
   {
    "duration": 3,
    "start_time": "2024-06-04T02:02:25.215Z"
   },
   {
    "duration": 4,
    "start_time": "2024-06-04T02:02:25.221Z"
   },
   {
    "duration": 3,
    "start_time": "2024-06-04T02:02:25.229Z"
   },
   {
    "duration": 4,
    "start_time": "2024-06-04T02:02:25.235Z"
   },
   {
    "duration": 3,
    "start_time": "2024-06-04T02:02:25.243Z"
   },
   {
    "duration": 55,
    "start_time": "2024-06-04T02:02:25.248Z"
   },
   {
    "duration": 4,
    "start_time": "2024-06-04T02:02:25.306Z"
   },
   {
    "duration": 5,
    "start_time": "2024-06-04T02:02:25.317Z"
   },
   {
    "duration": 3,
    "start_time": "2024-06-04T02:02:25.328Z"
   },
   {
    "duration": 4,
    "start_time": "2024-06-04T02:02:25.334Z"
   },
   {
    "duration": 4,
    "start_time": "2024-06-04T02:02:25.341Z"
   },
   {
    "duration": 22,
    "start_time": "2024-06-04T02:02:40.075Z"
   },
   {
    "duration": 365,
    "start_time": "2024-06-04T02:03:52.401Z"
   },
   {
    "duration": 15,
    "start_time": "2024-06-04T02:04:01.288Z"
   },
   {
    "duration": 992,
    "start_time": "2024-06-04T02:04:17.403Z"
   },
   {
    "duration": 17,
    "start_time": "2024-06-04T02:04:24.324Z"
   },
   {
    "duration": 110,
    "start_time": "2024-06-04T02:04:52.810Z"
   },
   {
    "duration": 14,
    "start_time": "2024-06-04T02:05:40.942Z"
   },
   {
    "duration": 17,
    "start_time": "2024-06-04T02:06:35.895Z"
   },
   {
    "duration": 14,
    "start_time": "2024-06-04T02:06:52.824Z"
   },
   {
    "duration": 185,
    "start_time": "2024-06-04T02:08:02.502Z"
   },
   {
    "duration": 16,
    "start_time": "2024-06-04T02:08:03.771Z"
   },
   {
    "duration": 14,
    "start_time": "2024-06-04T02:08:35.480Z"
   },
   {
    "duration": 12,
    "start_time": "2024-06-04T02:08:48.422Z"
   },
   {
    "duration": 21,
    "start_time": "2024-06-04T02:09:00.864Z"
   },
   {
    "duration": 13,
    "start_time": "2024-06-04T02:09:18.082Z"
   },
   {
    "duration": 24,
    "start_time": "2024-06-04T02:14:44.316Z"
   },
   {
    "duration": 202,
    "start_time": "2024-06-04T02:14:54.046Z"
   },
   {
    "duration": 182,
    "start_time": "2024-06-04T02:15:08.523Z"
   },
   {
    "duration": 238,
    "start_time": "2024-06-04T02:15:36.273Z"
   },
   {
    "duration": 222,
    "start_time": "2024-06-04T02:15:44.236Z"
   },
   {
    "duration": 52,
    "start_time": "2024-06-04T02:16:12.134Z"
   },
   {
    "duration": 25,
    "start_time": "2024-06-04T02:17:18.099Z"
   },
   {
    "duration": 27,
    "start_time": "2024-06-04T02:17:27.821Z"
   },
   {
    "duration": 16,
    "start_time": "2024-06-04T02:17:40.547Z"
   },
   {
    "duration": 26,
    "start_time": "2024-06-04T02:18:39.262Z"
   },
   {
    "duration": 8,
    "start_time": "2024-06-04T02:19:09.822Z"
   },
   {
    "duration": 23,
    "start_time": "2024-06-04T02:21:22.612Z"
   },
   {
    "duration": 28,
    "start_time": "2024-06-04T02:24:42.198Z"
   },
   {
    "duration": 30,
    "start_time": "2024-06-04T02:25:13.932Z"
   },
   {
    "duration": 44,
    "start_time": "2024-06-04T02:34:23.501Z"
   },
   {
    "duration": 7,
    "start_time": "2024-06-04T02:37:23.679Z"
   },
   {
    "duration": 168,
    "start_time": "2024-06-04T02:46:23.220Z"
   },
   {
    "duration": 8,
    "start_time": "2024-06-04T02:46:39.166Z"
   },
   {
    "duration": 5,
    "start_time": "2024-06-04T02:47:36.659Z"
   },
   {
    "duration": 7,
    "start_time": "2024-06-04T02:48:31.586Z"
   },
   {
    "duration": 5,
    "start_time": "2024-06-04T02:49:12.917Z"
   },
   {
    "duration": 1347,
    "start_time": "2024-06-04T02:49:53.180Z"
   },
   {
    "duration": 1380,
    "start_time": "2024-06-04T02:52:47.240Z"
   },
   {
    "duration": 423,
    "start_time": "2024-06-06T01:38:22.486Z"
   },
   {
    "duration": 266,
    "start_time": "2024-06-06T01:38:22.913Z"
   },
   {
    "duration": 91,
    "start_time": "2024-06-06T01:38:23.182Z"
   },
   {
    "duration": 1398,
    "start_time": "2024-06-06T01:38:23.278Z"
   },
   {
    "duration": 17,
    "start_time": "2024-06-06T01:38:24.680Z"
   },
   {
    "duration": 35,
    "start_time": "2024-06-06T01:38:24.700Z"
   },
   {
    "duration": 21,
    "start_time": "2024-06-06T01:38:24.739Z"
   },
   {
    "duration": 19,
    "start_time": "2024-06-06T01:38:24.764Z"
   },
   {
    "duration": 14,
    "start_time": "2024-06-06T01:38:24.822Z"
   },
   {
    "duration": 15,
    "start_time": "2024-06-06T01:38:24.842Z"
   },
   {
    "duration": 19,
    "start_time": "2024-06-06T01:38:24.861Z"
   },
   {
    "duration": 213,
    "start_time": "2024-06-06T01:38:24.924Z"
   },
   {
    "duration": 15,
    "start_time": "2024-06-06T01:38:25.141Z"
   },
   {
    "duration": 218,
    "start_time": "2024-06-06T01:38:25.160Z"
   },
   {
    "duration": 225,
    "start_time": "2024-06-06T01:38:25.380Z"
   },
   {
    "duration": 76,
    "start_time": "2024-06-06T01:38:25.610Z"
   },
   {
    "duration": 44,
    "start_time": "2024-06-06T01:38:25.689Z"
   },
   {
    "duration": 8,
    "start_time": "2024-06-06T01:38:25.736Z"
   },
   {
    "duration": 37,
    "start_time": "2024-06-06T01:38:25.750Z"
   },
   {
    "duration": 37,
    "start_time": "2024-06-06T01:38:25.822Z"
   },
   {
    "duration": 7,
    "start_time": "2024-06-06T01:38:25.862Z"
   },
   {
    "duration": 6,
    "start_time": "2024-06-06T01:38:25.873Z"
   },
   {
    "duration": 45,
    "start_time": "2024-06-06T01:38:25.884Z"
   },
   {
    "duration": 7,
    "start_time": "2024-06-06T01:38:25.932Z"
   },
   {
    "duration": 1459,
    "start_time": "2024-06-06T01:38:25.942Z"
   },
   {
    "duration": 1449,
    "start_time": "2024-06-06T01:38:27.404Z"
   },
   {
    "duration": 4,
    "start_time": "2024-06-06T01:38:28.855Z"
   },
   {
    "duration": 3,
    "start_time": "2024-06-06T01:38:28.866Z"
   },
   {
    "duration": 4,
    "start_time": "2024-06-06T01:38:28.873Z"
   },
   {
    "duration": 4,
    "start_time": "2024-06-06T01:38:28.880Z"
   },
   {
    "duration": 38,
    "start_time": "2024-06-06T01:38:28.887Z"
   },
   {
    "duration": 4,
    "start_time": "2024-06-06T01:38:28.929Z"
   },
   {
    "duration": 4,
    "start_time": "2024-06-06T01:38:28.936Z"
   },
   {
    "duration": 5,
    "start_time": "2024-06-06T01:38:28.944Z"
   },
   {
    "duration": 5,
    "start_time": "2024-06-06T01:38:28.953Z"
   },
   {
    "duration": 27,
    "start_time": "2024-06-06T01:39:11.132Z"
   },
   {
    "duration": 12,
    "start_time": "2024-06-06T01:42:08.742Z"
   },
   {
    "duration": 7,
    "start_time": "2024-06-06T01:47:18.639Z"
   },
   {
    "duration": 7,
    "start_time": "2024-06-06T01:47:28.613Z"
   },
   {
    "duration": 13,
    "start_time": "2024-06-06T01:47:47.929Z"
   },
   {
    "duration": 8,
    "start_time": "2024-06-06T01:52:17.231Z"
   },
   {
    "duration": 8,
    "start_time": "2024-06-06T01:56:10.993Z"
   },
   {
    "duration": 5,
    "start_time": "2024-06-06T01:56:23.468Z"
   },
   {
    "duration": 7,
    "start_time": "2024-06-06T01:56:38.897Z"
   },
   {
    "duration": 7,
    "start_time": "2024-06-06T01:56:44.973Z"
   },
   {
    "duration": 12,
    "start_time": "2024-06-06T02:02:36.605Z"
   },
   {
    "duration": 24,
    "start_time": "2024-06-06T02:03:43.018Z"
   },
   {
    "duration": 13,
    "start_time": "2024-06-06T02:03:52.740Z"
   },
   {
    "duration": 11,
    "start_time": "2024-06-06T02:04:25.786Z"
   },
   {
    "duration": 11,
    "start_time": "2024-06-06T02:05:43.387Z"
   },
   {
    "duration": 7,
    "start_time": "2024-06-06T02:08:22.656Z"
   },
   {
    "duration": 6,
    "start_time": "2024-06-06T02:08:29.896Z"
   },
   {
    "duration": 5,
    "start_time": "2024-06-06T02:08:44.918Z"
   },
   {
    "duration": 19,
    "start_time": "2024-06-06T02:08:51.354Z"
   },
   {
    "duration": 14,
    "start_time": "2024-06-06T02:09:27.085Z"
   },
   {
    "duration": 21,
    "start_time": "2024-06-06T02:09:40.083Z"
   },
   {
    "duration": 18,
    "start_time": "2024-06-06T02:10:21.094Z"
   },
   {
    "duration": 18,
    "start_time": "2024-06-06T02:10:38.348Z"
   },
   {
    "duration": 12,
    "start_time": "2024-06-06T02:10:59.930Z"
   },
   {
    "duration": 22,
    "start_time": "2024-06-06T02:12:02.864Z"
   },
   {
    "duration": 142,
    "start_time": "2024-06-06T02:12:15.101Z"
   },
   {
    "duration": 14,
    "start_time": "2024-06-06T02:12:18.917Z"
   },
   {
    "duration": 21,
    "start_time": "2024-06-06T02:12:34.035Z"
   },
   {
    "duration": 17,
    "start_time": "2024-06-06T02:12:50.228Z"
   },
   {
    "duration": 12,
    "start_time": "2024-06-06T02:13:51.236Z"
   },
   {
    "duration": 239,
    "start_time": "2024-06-06T02:14:01.093Z"
   },
   {
    "duration": 29,
    "start_time": "2024-06-06T02:14:05.225Z"
   },
   {
    "duration": 27,
    "start_time": "2024-06-06T02:14:11.384Z"
   },
   {
    "duration": 19,
    "start_time": "2024-06-06T02:14:23.568Z"
   },
   {
    "duration": 24,
    "start_time": "2024-06-06T02:14:35.182Z"
   },
   {
    "duration": 23,
    "start_time": "2024-06-06T02:14:40.445Z"
   },
   {
    "duration": 20,
    "start_time": "2024-06-06T02:14:46.433Z"
   },
   {
    "duration": 13,
    "start_time": "2024-06-06T02:15:36.835Z"
   },
   {
    "duration": 14,
    "start_time": "2024-06-06T02:15:47.832Z"
   },
   {
    "duration": 53,
    "start_time": "2024-06-06T02:25:31.806Z"
   },
   {
    "duration": 10,
    "start_time": "2024-06-06T02:30:10.532Z"
   },
   {
    "duration": 22,
    "start_time": "2024-06-06T02:33:13.400Z"
   },
   {
    "duration": 21,
    "start_time": "2024-06-06T02:33:21.941Z"
   },
   {
    "duration": 1249,
    "start_time": "2024-06-06T02:35:34.746Z"
   },
   {
    "duration": 23,
    "start_time": "2024-06-06T02:36:13.281Z"
   },
   {
    "duration": 19,
    "start_time": "2024-06-06T02:46:27.430Z"
   },
   {
    "duration": 174,
    "start_time": "2024-06-06T02:47:25.933Z"
   },
   {
    "duration": 20,
    "start_time": "2024-06-06T02:50:36.171Z"
   },
   {
    "duration": 19,
    "start_time": "2024-06-06T02:58:07.721Z"
   },
   {
    "duration": 20,
    "start_time": "2024-06-06T02:58:31.568Z"
   },
   {
    "duration": 454,
    "start_time": "2024-06-06T03:00:58.953Z"
   },
   {
    "duration": 229,
    "start_time": "2024-06-06T03:00:59.412Z"
   },
   {
    "duration": 91,
    "start_time": "2024-06-06T03:00:59.645Z"
   },
   {
    "duration": 1284,
    "start_time": "2024-06-06T03:00:59.740Z"
   },
   {
    "duration": 14,
    "start_time": "2024-06-06T03:01:01.030Z"
   },
   {
    "duration": 14,
    "start_time": "2024-06-06T03:01:01.048Z"
   },
   {
    "duration": 20,
    "start_time": "2024-06-06T03:01:01.065Z"
   },
   {
    "duration": 22,
    "start_time": "2024-06-06T03:01:01.124Z"
   },
   {
    "duration": 44,
    "start_time": "2024-06-06T03:01:01.150Z"
   },
   {
    "duration": 14,
    "start_time": "2024-06-06T03:01:01.224Z"
   },
   {
    "duration": 14,
    "start_time": "2024-06-06T03:01:01.240Z"
   },
   {
    "duration": 203,
    "start_time": "2024-06-06T03:01:01.257Z"
   },
   {
    "duration": 16,
    "start_time": "2024-06-06T03:01:01.463Z"
   },
   {
    "duration": 223,
    "start_time": "2024-06-06T03:01:01.485Z"
   },
   {
    "duration": 184,
    "start_time": "2024-06-06T03:01:01.711Z"
   },
   {
    "duration": 68,
    "start_time": "2024-06-06T03:01:01.899Z"
   },
   {
    "duration": 27,
    "start_time": "2024-06-06T03:01:01.971Z"
   },
   {
    "duration": 29,
    "start_time": "2024-06-06T03:01:02.001Z"
   },
   {
    "duration": 38,
    "start_time": "2024-06-06T03:01:02.033Z"
   },
   {
    "duration": 66,
    "start_time": "2024-06-06T03:01:02.075Z"
   },
   {
    "duration": 8,
    "start_time": "2024-06-06T03:01:02.144Z"
   },
   {
    "duration": 6,
    "start_time": "2024-06-06T03:01:02.156Z"
   },
   {
    "duration": 8,
    "start_time": "2024-06-06T03:01:02.166Z"
   },
   {
    "duration": 48,
    "start_time": "2024-06-06T03:01:02.178Z"
   },
   {
    "duration": 1484,
    "start_time": "2024-06-06T03:01:02.229Z"
   },
   {
    "duration": 1400,
    "start_time": "2024-06-06T03:01:03.716Z"
   },
   {
    "duration": 12,
    "start_time": "2024-06-06T03:01:05.124Z"
   },
   {
    "duration": 20,
    "start_time": "2024-06-06T03:01:05.139Z"
   },
   {
    "duration": 379,
    "start_time": "2024-06-06T03:01:05.162Z"
   },
   {
    "duration": 0,
    "start_time": "2024-06-06T03:01:05.544Z"
   },
   {
    "duration": 0,
    "start_time": "2024-06-06T03:01:05.546Z"
   },
   {
    "duration": 0,
    "start_time": "2024-06-06T03:01:05.549Z"
   },
   {
    "duration": 0,
    "start_time": "2024-06-06T03:01:05.551Z"
   },
   {
    "duration": 0,
    "start_time": "2024-06-06T03:01:05.554Z"
   },
   {
    "duration": 0,
    "start_time": "2024-06-06T03:01:05.557Z"
   },
   {
    "duration": 0,
    "start_time": "2024-06-06T03:01:05.559Z"
   },
   {
    "duration": 18,
    "start_time": "2024-06-06T03:01:17.533Z"
   },
   {
    "duration": 5,
    "start_time": "2024-06-06T03:04:51.583Z"
   },
   {
    "duration": 5,
    "start_time": "2024-06-06T03:05:16.267Z"
   },
   {
    "duration": 849,
    "start_time": "2024-06-06T03:06:44.949Z"
   },
   {
    "duration": 75,
    "start_time": "2024-06-06T03:06:57.551Z"
   },
   {
    "duration": 33,
    "start_time": "2024-06-06T03:07:09.043Z"
   },
   {
    "duration": 4,
    "start_time": "2024-06-06T03:07:25.742Z"
   },
   {
    "duration": 8,
    "start_time": "2024-06-06T03:07:32.626Z"
   },
   {
    "duration": 24,
    "start_time": "2024-06-06T03:08:50.790Z"
   },
   {
    "duration": 445,
    "start_time": "2024-06-06T03:08:56.148Z"
   },
   {
    "duration": 5,
    "start_time": "2024-06-06T03:10:07.498Z"
   },
   {
    "duration": 9,
    "start_time": "2024-06-06T03:10:18.024Z"
   },
   {
    "duration": 9,
    "start_time": "2024-06-06T03:10:56.731Z"
   },
   {
    "duration": 11,
    "start_time": "2024-06-06T03:11:15.809Z"
   },
   {
    "duration": 25,
    "start_time": "2024-06-06T03:11:23.256Z"
   },
   {
    "duration": 8,
    "start_time": "2024-06-06T03:11:30.100Z"
   },
   {
    "duration": 7,
    "start_time": "2024-06-06T03:11:50.064Z"
   },
   {
    "duration": 7,
    "start_time": "2024-06-06T03:17:38.413Z"
   },
   {
    "duration": 8,
    "start_time": "2024-06-06T03:17:44.899Z"
   },
   {
    "duration": 39,
    "start_time": "2024-06-06T03:18:04.882Z"
   },
   {
    "duration": 23,
    "start_time": "2024-06-06T03:18:13.523Z"
   },
   {
    "duration": 22,
    "start_time": "2024-06-06T03:18:20.494Z"
   },
   {
    "duration": 18,
    "start_time": "2024-06-06T03:19:07.158Z"
   },
   {
    "duration": 15,
    "start_time": "2024-06-06T03:21:19.089Z"
   },
   {
    "duration": 17,
    "start_time": "2024-06-06T03:21:24.607Z"
   },
   {
    "duration": 16,
    "start_time": "2024-06-06T03:21:35.030Z"
   },
   {
    "duration": 16,
    "start_time": "2024-06-06T03:21:43.238Z"
   },
   {
    "duration": 16,
    "start_time": "2024-06-06T03:21:54.014Z"
   },
   {
    "duration": 16,
    "start_time": "2024-06-06T03:21:59.994Z"
   },
   {
    "duration": 9,
    "start_time": "2024-06-06T03:22:15.364Z"
   },
   {
    "duration": 9,
    "start_time": "2024-06-06T03:22:29.964Z"
   },
   {
    "duration": 24,
    "start_time": "2024-06-06T03:40:57.331Z"
   },
   {
    "duration": 26,
    "start_time": "2024-06-06T03:41:42.519Z"
   },
   {
    "duration": 32,
    "start_time": "2024-06-06T03:41:50.980Z"
   },
   {
    "duration": 76,
    "start_time": "2024-06-06T03:47:21.954Z"
   },
   {
    "duration": 11,
    "start_time": "2024-06-06T03:49:12.251Z"
   },
   {
    "duration": 12,
    "start_time": "2024-06-06T03:49:45.275Z"
   },
   {
    "duration": 13,
    "start_time": "2024-06-06T03:50:13.001Z"
   },
   {
    "duration": 12,
    "start_time": "2024-06-06T03:50:34.690Z"
   },
   {
    "duration": 434,
    "start_time": "2024-06-08T02:53:43.161Z"
   },
   {
    "duration": 491,
    "start_time": "2024-06-08T02:53:49.819Z"
   },
   {
    "duration": 252,
    "start_time": "2024-06-08T02:53:50.314Z"
   },
   {
    "duration": 92,
    "start_time": "2024-06-08T02:53:50.569Z"
   },
   {
    "duration": 1370,
    "start_time": "2024-06-08T02:53:50.665Z"
   },
   {
    "duration": 14,
    "start_time": "2024-06-08T02:53:52.039Z"
   },
   {
    "duration": 15,
    "start_time": "2024-06-08T02:53:52.056Z"
   },
   {
    "duration": 43,
    "start_time": "2024-06-08T02:53:52.074Z"
   },
   {
    "duration": 17,
    "start_time": "2024-06-08T02:53:52.120Z"
   },
   {
    "duration": 72,
    "start_time": "2024-06-08T02:53:52.139Z"
   },
   {
    "duration": 13,
    "start_time": "2024-06-08T02:53:52.217Z"
   },
   {
    "duration": 14,
    "start_time": "2024-06-08T02:53:52.233Z"
   },
   {
    "duration": 221,
    "start_time": "2024-06-08T02:53:52.253Z"
   },
   {
    "duration": 27,
    "start_time": "2024-06-08T02:53:52.477Z"
   },
   {
    "duration": 183,
    "start_time": "2024-06-08T02:53:52.506Z"
   },
   {
    "duration": 167,
    "start_time": "2024-06-08T02:53:52.692Z"
   },
   {
    "duration": 55,
    "start_time": "2024-06-08T02:53:52.862Z"
   },
   {
    "duration": 24,
    "start_time": "2024-06-08T02:53:52.920Z"
   },
   {
    "duration": 7,
    "start_time": "2024-06-08T02:53:52.946Z"
   },
   {
    "duration": 66,
    "start_time": "2024-06-08T02:53:52.956Z"
   },
   {
    "duration": 33,
    "start_time": "2024-06-08T02:53:53.025Z"
   },
   {
    "duration": 7,
    "start_time": "2024-06-08T02:53:53.061Z"
   },
   {
    "duration": 6,
    "start_time": "2024-06-08T02:53:53.101Z"
   },
   {
    "duration": 7,
    "start_time": "2024-06-08T02:53:53.110Z"
   },
   {
    "duration": 6,
    "start_time": "2024-06-08T02:53:53.121Z"
   },
   {
    "duration": 1391,
    "start_time": "2024-06-08T02:53:53.131Z"
   },
   {
    "duration": 1375,
    "start_time": "2024-06-08T02:53:54.525Z"
   },
   {
    "duration": 11,
    "start_time": "2024-06-08T02:53:55.906Z"
   },
   {
    "duration": 25,
    "start_time": "2024-06-08T02:53:55.924Z"
   },
   {
    "duration": 46,
    "start_time": "2024-06-08T02:53:55.958Z"
   },
   {
    "duration": 10,
    "start_time": "2024-06-08T02:53:56.007Z"
   },
   {
    "duration": 10,
    "start_time": "2024-06-08T02:53:56.021Z"
   },
   {
    "duration": 14,
    "start_time": "2024-06-08T02:53:56.034Z"
   },
   {
    "duration": 52,
    "start_time": "2024-06-08T02:53:56.051Z"
   },
   {
    "duration": 12,
    "start_time": "2024-06-08T02:53:56.106Z"
   },
   {
    "duration": 4,
    "start_time": "2024-06-08T02:53:56.121Z"
   },
   {
    "duration": 3,
    "start_time": "2024-06-08T02:53:56.128Z"
   },
   {
    "duration": 3,
    "start_time": "2024-06-08T02:53:56.136Z"
   },
   {
    "duration": 60,
    "start_time": "2024-06-08T02:53:56.142Z"
   },
   {
    "duration": 14,
    "start_time": "2024-06-08T02:58:21.065Z"
   },
   {
    "duration": 15,
    "start_time": "2024-06-08T03:02:04.405Z"
   },
   {
    "duration": 20,
    "start_time": "2024-06-08T03:02:37.578Z"
   },
   {
    "duration": 31,
    "start_time": "2024-06-08T03:02:45.147Z"
   },
   {
    "duration": 28,
    "start_time": "2024-06-08T03:03:56.515Z"
   },
   {
    "duration": 29,
    "start_time": "2024-06-08T03:04:02.444Z"
   },
   {
    "duration": 10,
    "start_time": "2024-06-08T03:04:07.249Z"
   },
   {
    "duration": 30,
    "start_time": "2024-06-08T03:04:09.922Z"
   },
   {
    "duration": 7,
    "start_time": "2024-06-08T03:04:17.939Z"
   },
   {
    "duration": 28,
    "start_time": "2024-06-08T03:04:23.158Z"
   },
   {
    "duration": 51,
    "start_time": "2024-06-08T03:07:11.156Z"
   },
   {
    "duration": 389,
    "start_time": "2024-06-08T03:08:26.442Z"
   },
   {
    "duration": 72,
    "start_time": "2024-06-08T03:08:58.889Z"
   },
   {
    "duration": 51,
    "start_time": "2024-06-08T03:10:39.458Z"
   },
   {
    "duration": 29,
    "start_time": "2024-06-08T03:14:51.864Z"
   },
   {
    "duration": 13,
    "start_time": "2024-06-08T03:15:09.615Z"
   },
   {
    "duration": 16,
    "start_time": "2024-06-08T03:15:31.117Z"
   },
   {
    "duration": 6,
    "start_time": "2024-06-08T03:21:00.441Z"
   },
   {
    "duration": 26,
    "start_time": "2024-06-08T03:21:07.204Z"
   },
   {
    "duration": 55,
    "start_time": "2024-06-08T03:21:38.372Z"
   },
   {
    "duration": 538,
    "start_time": "2024-06-08T03:22:23.773Z"
   },
   {
    "duration": 24,
    "start_time": "2024-06-08T03:22:45.488Z"
   },
   {
    "duration": 10,
    "start_time": "2024-06-08T03:23:56.342Z"
   },
   {
    "duration": 8,
    "start_time": "2024-06-08T03:24:13.624Z"
   },
   {
    "duration": 5,
    "start_time": "2024-06-08T03:24:21.800Z"
   },
   {
    "duration": 6,
    "start_time": "2024-06-08T03:24:40.360Z"
   },
   {
    "duration": 5,
    "start_time": "2024-06-08T03:24:59.270Z"
   },
   {
    "duration": 20,
    "start_time": "2024-06-08T03:26:18.891Z"
   },
   {
    "duration": 9,
    "start_time": "2024-06-08T03:29:34.284Z"
   },
   {
    "duration": 25,
    "start_time": "2024-06-08T03:30:07.428Z"
   },
   {
    "duration": 22,
    "start_time": "2024-06-08T03:30:15.130Z"
   },
   {
    "duration": 10,
    "start_time": "2024-06-08T03:30:19.854Z"
   },
   {
    "duration": 26,
    "start_time": "2024-06-08T03:31:04.947Z"
   },
   {
    "duration": 11,
    "start_time": "2024-06-08T03:31:16.412Z"
   },
   {
    "duration": 29,
    "start_time": "2024-06-08T03:31:18.584Z"
   },
   {
    "duration": 52,
    "start_time": "2024-06-08T03:31:19.328Z"
   },
   {
    "duration": 22,
    "start_time": "2024-06-08T03:31:19.995Z"
   },
   {
    "duration": 9,
    "start_time": "2024-06-08T03:31:25.870Z"
   },
   {
    "duration": 41,
    "start_time": "2024-06-08T03:34:56.699Z"
   },
   {
    "duration": 36,
    "start_time": "2024-06-08T03:35:05.373Z"
   },
   {
    "duration": 386,
    "start_time": "2024-06-08T03:35:20.980Z"
   },
   {
    "duration": 320,
    "start_time": "2024-06-08T03:35:27.308Z"
   },
   {
    "duration": 343,
    "start_time": "2024-06-08T03:35:38.576Z"
   },
   {
    "duration": 330,
    "start_time": "2024-06-08T03:35:46.828Z"
   },
   {
    "duration": 329,
    "start_time": "2024-06-08T03:35:55.458Z"
   },
   {
    "duration": 323,
    "start_time": "2024-06-08T03:36:07.780Z"
   },
   {
    "duration": 313,
    "start_time": "2024-06-08T03:36:13.215Z"
   },
   {
    "duration": 26,
    "start_time": "2024-06-08T03:36:21.178Z"
   },
   {
    "duration": 30,
    "start_time": "2024-06-08T03:36:24.336Z"
   },
   {
    "duration": 27,
    "start_time": "2024-06-08T03:37:29.509Z"
   },
   {
    "duration": 16,
    "start_time": "2024-06-08T03:38:29.487Z"
   },
   {
    "duration": 16,
    "start_time": "2024-06-08T03:40:23.819Z"
   },
   {
    "duration": 29,
    "start_time": "2024-06-08T03:42:26.462Z"
   },
   {
    "duration": 251,
    "start_time": "2024-06-08T03:44:00.917Z"
   },
   {
    "duration": 246,
    "start_time": "2024-06-08T03:45:41.061Z"
   },
   {
    "duration": 289,
    "start_time": "2024-06-08T03:51:09.585Z"
   },
   {
    "duration": 350,
    "start_time": "2024-06-08T03:52:59.587Z"
   },
   {
    "duration": 298,
    "start_time": "2024-06-08T03:53:31.740Z"
   },
   {
    "duration": 15,
    "start_time": "2024-06-08T03:55:24.602Z"
   },
   {
    "duration": 364,
    "start_time": "2024-06-08T03:55:55.530Z"
   },
   {
    "duration": 360,
    "start_time": "2024-06-08T03:56:11.422Z"
   },
   {
    "duration": 6,
    "start_time": "2024-06-08T04:01:55.184Z"
   },
   {
    "duration": 43,
    "start_time": "2024-06-08T04:03:34.137Z"
   },
   {
    "duration": 289,
    "start_time": "2024-06-08T04:03:51.644Z"
   },
   {
    "duration": 28,
    "start_time": "2024-06-08T04:04:09.725Z"
   },
   {
    "duration": 258,
    "start_time": "2024-06-08T04:04:14.775Z"
   },
   {
    "duration": 25,
    "start_time": "2024-06-08T04:06:28.389Z"
   },
   {
    "duration": 372,
    "start_time": "2024-06-08T04:06:30.422Z"
   },
   {
    "duration": 67,
    "start_time": "2024-06-08T04:06:59.747Z"
   },
   {
    "duration": 265,
    "start_time": "2024-06-08T04:07:01.894Z"
   },
   {
    "duration": 295,
    "start_time": "2024-06-08T04:08:26.373Z"
   },
   {
    "duration": 208,
    "start_time": "2024-06-08T04:08:39.805Z"
   },
   {
    "duration": 299,
    "start_time": "2024-06-08T04:08:48.844Z"
   },
   {
    "duration": 260,
    "start_time": "2024-06-08T04:08:54.748Z"
   },
   {
    "duration": 240,
    "start_time": "2024-06-08T04:09:21.286Z"
   },
   {
    "duration": 269,
    "start_time": "2024-06-08T04:09:58.691Z"
   },
   {
    "duration": 169,
    "start_time": "2024-06-08T04:10:56.889Z"
   },
   {
    "duration": 210,
    "start_time": "2024-06-08T04:11:18.071Z"
   },
   {
    "duration": 497,
    "start_time": "2024-06-08T04:14:10.214Z"
   },
   {
    "duration": 461,
    "start_time": "2024-06-08T04:14:49.843Z"
   },
   {
    "duration": 415,
    "start_time": "2024-06-08T04:15:01.690Z"
   },
   {
    "duration": 450,
    "start_time": "2024-06-08T04:15:06.863Z"
   },
   {
    "duration": 489,
    "start_time": "2024-06-08T04:16:09.393Z"
   },
   {
    "duration": 185,
    "start_time": "2024-06-08T04:17:43.351Z"
   },
   {
    "duration": 239,
    "start_time": "2024-06-08T04:18:26.628Z"
   },
   {
    "duration": 201,
    "start_time": "2024-06-08T04:20:52.037Z"
   },
   {
    "duration": 1010,
    "start_time": "2024-06-08T04:22:11.747Z"
   },
   {
    "duration": 74,
    "start_time": "2024-06-08T04:24:11.162Z"
   },
   {
    "duration": 269,
    "start_time": "2024-06-08T04:25:26.821Z"
   },
   {
    "duration": 447,
    "start_time": "2024-06-08T04:25:40.654Z"
   },
   {
    "duration": 223,
    "start_time": "2024-06-08T04:25:41.106Z"
   },
   {
    "duration": 78,
    "start_time": "2024-06-08T04:25:41.332Z"
   },
   {
    "duration": 1306,
    "start_time": "2024-06-08T04:25:41.414Z"
   },
   {
    "duration": 14,
    "start_time": "2024-06-08T04:25:42.723Z"
   },
   {
    "duration": 14,
    "start_time": "2024-06-08T04:25:42.740Z"
   },
   {
    "duration": 51,
    "start_time": "2024-06-08T04:25:42.757Z"
   },
   {
    "duration": 17,
    "start_time": "2024-06-08T04:25:42.810Z"
   },
   {
    "duration": 40,
    "start_time": "2024-06-08T04:25:42.830Z"
   },
   {
    "duration": 40,
    "start_time": "2024-06-08T04:25:42.875Z"
   },
   {
    "duration": 14,
    "start_time": "2024-06-08T04:25:42.917Z"
   },
   {
    "duration": 210,
    "start_time": "2024-06-08T04:25:42.934Z"
   },
   {
    "duration": 16,
    "start_time": "2024-06-08T04:25:43.148Z"
   },
   {
    "duration": 199,
    "start_time": "2024-06-08T04:25:43.167Z"
   },
   {
    "duration": 167,
    "start_time": "2024-06-08T04:25:43.368Z"
   },
   {
    "duration": 45,
    "start_time": "2024-06-08T04:25:43.538Z"
   },
   {
    "duration": 23,
    "start_time": "2024-06-08T04:25:43.603Z"
   },
   {
    "duration": 7,
    "start_time": "2024-06-08T04:25:43.629Z"
   },
   {
    "duration": 64,
    "start_time": "2024-06-08T04:25:43.639Z"
   },
   {
    "duration": 31,
    "start_time": "2024-06-08T04:25:43.707Z"
   },
   {
    "duration": 8,
    "start_time": "2024-06-08T04:25:43.741Z"
   },
   {
    "duration": 6,
    "start_time": "2024-06-08T04:25:43.752Z"
   },
   {
    "duration": 46,
    "start_time": "2024-06-08T04:25:43.761Z"
   },
   {
    "duration": 6,
    "start_time": "2024-06-08T04:25:43.811Z"
   },
   {
    "duration": 1390,
    "start_time": "2024-06-08T04:25:43.822Z"
   },
   {
    "duration": 1431,
    "start_time": "2024-06-08T04:25:45.215Z"
   },
   {
    "duration": 11,
    "start_time": "2024-06-08T04:25:46.649Z"
   },
   {
    "duration": 48,
    "start_time": "2024-06-08T04:25:46.668Z"
   },
   {
    "duration": 19,
    "start_time": "2024-06-08T04:25:46.718Z"
   },
   {
    "duration": 7,
    "start_time": "2024-06-08T04:25:46.740Z"
   },
   {
    "duration": 51,
    "start_time": "2024-06-08T04:25:46.751Z"
   },
   {
    "duration": 17,
    "start_time": "2024-06-08T04:25:46.805Z"
   },
   {
    "duration": 11,
    "start_time": "2024-06-08T04:25:46.825Z"
   },
   {
    "duration": 11,
    "start_time": "2024-06-08T04:25:46.839Z"
   },
   {
    "duration": 73,
    "start_time": "2024-06-08T04:25:46.853Z"
   },
   {
    "duration": 52,
    "start_time": "2024-06-08T04:25:46.929Z"
   },
   {
    "duration": 37,
    "start_time": "2024-06-08T04:25:46.983Z"
   },
   {
    "duration": 9,
    "start_time": "2024-06-08T04:25:47.023Z"
   },
   {
    "duration": 71,
    "start_time": "2024-06-08T04:25:47.035Z"
   },
   {
    "duration": 15,
    "start_time": "2024-06-08T04:25:47.109Z"
   },
   {
    "duration": 542,
    "start_time": "2024-06-08T04:25:47.129Z"
   },
   {
    "duration": 258,
    "start_time": "2024-06-08T04:25:47.674Z"
   },
   {
    "duration": 313,
    "start_time": "2024-06-08T04:25:47.935Z"
   },
   {
    "duration": 16,
    "start_time": "2024-06-08T04:25:48.251Z"
   },
   {
    "duration": 386,
    "start_time": "2024-06-08T04:25:48.270Z"
   },
   {
    "duration": 81,
    "start_time": "2024-06-08T04:25:48.661Z"
   },
   {
    "duration": 279,
    "start_time": "2024-06-08T04:25:48.745Z"
   },
   {
    "duration": 192,
    "start_time": "2024-06-08T04:25:49.027Z"
   },
   {
    "duration": 518,
    "start_time": "2024-06-08T04:25:49.222Z"
   },
   {
    "duration": 486,
    "start_time": "2024-06-08T04:25:49.744Z"
   },
   {
    "duration": 263,
    "start_time": "2024-06-08T04:25:50.233Z"
   },
   {
    "duration": 215,
    "start_time": "2024-06-08T04:25:50.503Z"
   },
   {
    "duration": 989,
    "start_time": "2024-06-08T04:25:50.722Z"
   },
   {
    "duration": 89,
    "start_time": "2024-06-08T04:25:51.714Z"
   },
   {
    "duration": 478,
    "start_time": "2024-06-09T04:24:25.876Z"
   },
   {
    "duration": 285,
    "start_time": "2024-06-09T04:24:26.359Z"
   },
   {
    "duration": 96,
    "start_time": "2024-06-09T04:24:26.647Z"
   },
   {
    "duration": 1405,
    "start_time": "2024-06-09T04:24:26.747Z"
   },
   {
    "duration": 17,
    "start_time": "2024-06-09T04:24:28.154Z"
   },
   {
    "duration": 16,
    "start_time": "2024-06-09T04:24:28.174Z"
   },
   {
    "duration": 39,
    "start_time": "2024-06-09T04:24:28.192Z"
   },
   {
    "duration": 16,
    "start_time": "2024-06-09T04:24:28.234Z"
   },
   {
    "duration": 70,
    "start_time": "2024-06-09T04:24:28.252Z"
   },
   {
    "duration": 14,
    "start_time": "2024-06-09T04:24:28.329Z"
   },
   {
    "duration": 14,
    "start_time": "2024-06-09T04:24:28.346Z"
   },
   {
    "duration": 199,
    "start_time": "2024-06-09T04:24:28.363Z"
   },
   {
    "duration": 16,
    "start_time": "2024-06-09T04:24:28.565Z"
   },
   {
    "duration": 205,
    "start_time": "2024-06-09T04:24:28.586Z"
   },
   {
    "duration": 175,
    "start_time": "2024-06-09T04:24:28.794Z"
   },
   {
    "duration": 56,
    "start_time": "2024-06-09T04:24:28.971Z"
   },
   {
    "duration": 25,
    "start_time": "2024-06-09T04:24:29.030Z"
   },
   {
    "duration": 8,
    "start_time": "2024-06-09T04:24:29.058Z"
   },
   {
    "duration": 69,
    "start_time": "2024-06-09T04:24:29.070Z"
   },
   {
    "duration": 33,
    "start_time": "2024-06-09T04:24:29.142Z"
   },
   {
    "duration": 7,
    "start_time": "2024-06-09T04:24:29.178Z"
   },
   {
    "duration": 37,
    "start_time": "2024-06-09T04:24:29.189Z"
   },
   {
    "duration": 7,
    "start_time": "2024-06-09T04:24:29.230Z"
   },
   {
    "duration": 6,
    "start_time": "2024-06-09T04:24:29.240Z"
   },
   {
    "duration": 1495,
    "start_time": "2024-06-09T04:24:29.249Z"
   },
   {
    "duration": 1453,
    "start_time": "2024-06-09T04:24:30.748Z"
   },
   {
    "duration": 24,
    "start_time": "2024-06-09T04:24:32.204Z"
   },
   {
    "duration": 22,
    "start_time": "2024-06-09T04:24:32.238Z"
   },
   {
    "duration": 20,
    "start_time": "2024-06-09T04:24:32.263Z"
   },
   {
    "duration": 10,
    "start_time": "2024-06-09T04:24:32.323Z"
   },
   {
    "duration": 8,
    "start_time": "2024-06-09T04:24:32.337Z"
   },
   {
    "duration": 16,
    "start_time": "2024-06-09T04:24:32.350Z"
   },
   {
    "duration": 59,
    "start_time": "2024-06-09T04:24:32.370Z"
   },
   {
    "duration": 12,
    "start_time": "2024-06-09T04:24:32.433Z"
   },
   {
    "duration": 33,
    "start_time": "2024-06-09T04:24:32.448Z"
   },
   {
    "duration": 84,
    "start_time": "2024-06-09T04:24:32.484Z"
   },
   {
    "duration": 52,
    "start_time": "2024-06-09T04:24:32.571Z"
   },
   {
    "duration": 11,
    "start_time": "2024-06-09T04:24:32.625Z"
   },
   {
    "duration": 36,
    "start_time": "2024-06-09T04:24:32.640Z"
   },
   {
    "duration": 47,
    "start_time": "2024-06-09T04:24:32.680Z"
   },
   {
    "duration": 4314,
    "start_time": "2024-06-09T04:24:32.731Z"
   },
   {
    "duration": 265,
    "start_time": "2024-06-09T04:24:37.049Z"
   },
   {
    "duration": 305,
    "start_time": "2024-06-09T04:24:37.322Z"
   },
   {
    "duration": 18,
    "start_time": "2024-06-09T04:24:37.630Z"
   },
   {
    "duration": 388,
    "start_time": "2024-06-09T04:24:37.651Z"
   },
   {
    "duration": 94,
    "start_time": "2024-06-09T04:24:38.042Z"
   },
   {
    "duration": 288,
    "start_time": "2024-06-09T04:24:38.139Z"
   },
   {
    "duration": 189,
    "start_time": "2024-06-09T04:24:38.430Z"
   },
   {
    "duration": 484,
    "start_time": "2024-06-09T04:24:38.624Z"
   },
   {
    "duration": 523,
    "start_time": "2024-06-09T04:24:39.110Z"
   },
   {
    "duration": 315,
    "start_time": "2024-06-09T04:24:39.638Z"
   },
   {
    "duration": 246,
    "start_time": "2024-06-09T04:24:39.958Z"
   },
   {
    "duration": 1020,
    "start_time": "2024-06-09T04:24:40.207Z"
   },
   {
    "duration": 68,
    "start_time": "2024-06-09T04:24:41.231Z"
   },
   {
    "duration": 180,
    "start_time": "2024-06-09T04:44:28.305Z"
   },
   {
    "duration": 192,
    "start_time": "2024-06-09T04:48:07.822Z"
   },
   {
    "duration": 181,
    "start_time": "2024-06-09T04:48:25.106Z"
   },
   {
    "duration": 182,
    "start_time": "2024-06-09T04:48:35.187Z"
   },
   {
    "duration": 210,
    "start_time": "2024-06-09T04:48:46.091Z"
   },
   {
    "duration": 223,
    "start_time": "2024-06-09T04:48:56.937Z"
   },
   {
    "duration": 201,
    "start_time": "2024-06-09T04:49:09.067Z"
   },
   {
    "duration": 51,
    "start_time": "2024-06-09T04:52:26.269Z"
   },
   {
    "duration": 37,
    "start_time": "2024-06-09T04:52:57.028Z"
   },
   {
    "duration": 32,
    "start_time": "2024-06-09T04:57:40.693Z"
   },
   {
    "duration": 28,
    "start_time": "2024-06-09T04:59:04.241Z"
   },
   {
    "duration": 31,
    "start_time": "2024-06-09T04:59:15.785Z"
   },
   {
    "duration": 32,
    "start_time": "2024-06-09T04:59:32.035Z"
   },
   {
    "duration": 39,
    "start_time": "2024-06-09T04:59:45.337Z"
   },
   {
    "duration": 371,
    "start_time": "2024-06-09T05:00:22.146Z"
   },
   {
    "duration": 41,
    "start_time": "2024-06-09T05:00:28.479Z"
   },
   {
    "duration": 24,
    "start_time": "2024-06-09T05:00:51.232Z"
   },
   {
    "duration": 42,
    "start_time": "2024-06-09T05:01:31.411Z"
   },
   {
    "duration": 29,
    "start_time": "2024-06-09T05:01:41.166Z"
   },
   {
    "duration": 33,
    "start_time": "2024-06-09T05:01:52.766Z"
   },
   {
    "duration": 30,
    "start_time": "2024-06-09T05:02:06.636Z"
   },
   {
    "duration": 16,
    "start_time": "2024-06-09T05:02:29.543Z"
   },
   {
    "duration": 33,
    "start_time": "2024-06-09T05:04:29.401Z"
   },
   {
    "duration": 33,
    "start_time": "2024-06-09T05:04:35.954Z"
   },
   {
    "duration": 43,
    "start_time": "2024-06-09T05:05:14.738Z"
   },
   {
    "duration": 41,
    "start_time": "2024-06-09T05:06:15.878Z"
   },
   {
    "duration": 464,
    "start_time": "2024-06-09T05:07:21.147Z"
   },
   {
    "duration": 227,
    "start_time": "2024-06-09T05:07:21.615Z"
   },
   {
    "duration": 78,
    "start_time": "2024-06-09T05:07:21.845Z"
   },
   {
    "duration": 1302,
    "start_time": "2024-06-09T05:07:21.925Z"
   },
   {
    "duration": 15,
    "start_time": "2024-06-09T05:07:23.231Z"
   },
   {
    "duration": 15,
    "start_time": "2024-06-09T05:07:23.249Z"
   },
   {
    "duration": 57,
    "start_time": "2024-06-09T05:07:23.267Z"
   },
   {
    "duration": 17,
    "start_time": "2024-06-09T05:07:23.327Z"
   },
   {
    "duration": 41,
    "start_time": "2024-06-09T05:07:23.347Z"
   },
   {
    "duration": 41,
    "start_time": "2024-06-09T05:07:23.392Z"
   },
   {
    "duration": 16,
    "start_time": "2024-06-09T05:07:23.437Z"
   },
   {
    "duration": 225,
    "start_time": "2024-06-09T05:07:23.456Z"
   },
   {
    "duration": 15,
    "start_time": "2024-06-09T05:07:23.684Z"
   },
   {
    "duration": 207,
    "start_time": "2024-06-09T05:07:45.049Z"
   },
   {
    "duration": 179,
    "start_time": "2024-06-09T05:07:47.956Z"
   },
   {
    "duration": 61,
    "start_time": "2024-06-09T05:07:48.941Z"
   },
   {
    "duration": 24,
    "start_time": "2024-06-09T05:07:56.057Z"
   },
   {
    "duration": 7,
    "start_time": "2024-06-09T05:07:57.521Z"
   },
   {
    "duration": 49,
    "start_time": "2024-06-09T05:07:59.860Z"
   },
   {
    "duration": 1071,
    "start_time": "2024-06-09T05:08:09.330Z"
   },
   {
    "duration": 91,
    "start_time": "2024-06-09T05:09:15.140Z"
   },
   {
    "duration": 42,
    "start_time": "2024-06-09T05:09:22.511Z"
   },
   {
    "duration": 94,
    "start_time": "2024-06-09T05:09:23.072Z"
   },
   {
    "duration": 476,
    "start_time": "2024-06-09T05:12:03.166Z"
   },
   {
    "duration": 41,
    "start_time": "2024-06-09T05:12:12.586Z"
   },
   {
    "duration": 34,
    "start_time": "2024-06-09T05:12:52.388Z"
   },
   {
    "duration": 34,
    "start_time": "2024-06-09T05:16:05.896Z"
   },
   {
    "duration": 42,
    "start_time": "2024-06-09T05:16:16.381Z"
   },
   {
    "duration": 102,
    "start_time": "2024-06-09T05:16:47.550Z"
   },
   {
    "duration": 33,
    "start_time": "2024-06-09T05:16:54.270Z"
   },
   {
    "duration": 37,
    "start_time": "2024-06-09T05:17:09.151Z"
   },
   {
    "duration": 40,
    "start_time": "2024-06-09T05:17:15.199Z"
   },
   {
    "duration": 47,
    "start_time": "2024-06-09T05:19:16.613Z"
   },
   {
    "duration": 13,
    "start_time": "2024-06-09T05:21:12.820Z"
   },
   {
    "duration": 26,
    "start_time": "2024-06-09T05:21:22.803Z"
   },
   {
    "duration": 15,
    "start_time": "2024-06-09T05:21:27.945Z"
   },
   {
    "duration": 8,
    "start_time": "2024-06-09T05:21:37.018Z"
   },
   {
    "duration": 26,
    "start_time": "2024-06-09T05:22:33.475Z"
   },
   {
    "duration": 11,
    "start_time": "2024-06-09T05:22:56.413Z"
   },
   {
    "duration": 7,
    "start_time": "2024-06-09T05:23:05.963Z"
   },
   {
    "duration": 4,
    "start_time": "2024-06-09T05:29:17.895Z"
   },
   {
    "duration": 257,
    "start_time": "2024-06-09T05:29:17.910Z"
   },
   {
    "duration": 94,
    "start_time": "2024-06-09T05:29:18.172Z"
   },
   {
    "duration": 1323,
    "start_time": "2024-06-09T05:29:18.272Z"
   },
   {
    "duration": 30,
    "start_time": "2024-06-09T05:29:19.598Z"
   },
   {
    "duration": 16,
    "start_time": "2024-06-09T05:29:19.632Z"
   },
   {
    "duration": 26,
    "start_time": "2024-06-09T05:29:19.652Z"
   },
   {
    "duration": 48,
    "start_time": "2024-06-09T05:29:19.683Z"
   },
   {
    "duration": 51,
    "start_time": "2024-06-09T05:29:19.743Z"
   },
   {
    "duration": 45,
    "start_time": "2024-06-09T05:29:19.798Z"
   },
   {
    "duration": 16,
    "start_time": "2024-06-09T05:29:19.848Z"
   },
   {
    "duration": 202,
    "start_time": "2024-06-09T05:29:19.867Z"
   },
   {
    "duration": 17,
    "start_time": "2024-06-09T05:29:20.073Z"
   },
   {
    "duration": 218,
    "start_time": "2024-06-09T05:29:20.094Z"
   },
   {
    "duration": 185,
    "start_time": "2024-06-09T05:29:20.322Z"
   },
   {
    "duration": 56,
    "start_time": "2024-06-09T05:29:20.510Z"
   },
   {
    "duration": 25,
    "start_time": "2024-06-09T05:29:20.569Z"
   },
   {
    "duration": 7,
    "start_time": "2024-06-09T05:29:20.624Z"
   },
   {
    "duration": 50,
    "start_time": "2024-06-09T05:29:20.634Z"
   },
   {
    "duration": 65,
    "start_time": "2024-06-09T05:29:20.688Z"
   },
   {
    "duration": 11,
    "start_time": "2024-06-09T05:29:20.757Z"
   },
   {
    "duration": 8,
    "start_time": "2024-06-09T05:29:20.771Z"
   },
   {
    "duration": 43,
    "start_time": "2024-06-09T05:29:20.782Z"
   },
   {
    "duration": 1437,
    "start_time": "2024-06-09T05:29:20.828Z"
   },
   {
    "duration": 1443,
    "start_time": "2024-06-09T05:29:22.269Z"
   },
   {
    "duration": 18,
    "start_time": "2024-06-09T05:29:23.715Z"
   },
   {
    "duration": 25,
    "start_time": "2024-06-09T05:29:23.736Z"
   },
   {
    "duration": 185,
    "start_time": "2024-06-09T05:29:23.765Z"
   },
   {
    "duration": 22,
    "start_time": "2024-06-09T05:29:23.955Z"
   },
   {
    "duration": 41,
    "start_time": "2024-06-09T05:29:23.982Z"
   },
   {
    "duration": 27,
    "start_time": "2024-06-09T05:31:57.295Z"
   },
   {
    "duration": 4,
    "start_time": "2024-06-09T05:32:21.160Z"
   },
   {
    "duration": 286,
    "start_time": "2024-06-09T05:32:21.173Z"
   },
   {
    "duration": 92,
    "start_time": "2024-06-09T05:32:21.464Z"
   },
   {
    "duration": 1842,
    "start_time": "2024-06-09T05:32:21.559Z"
   },
   {
    "duration": 31,
    "start_time": "2024-06-09T05:32:23.405Z"
   },
   {
    "duration": 20,
    "start_time": "2024-06-09T05:32:23.449Z"
   },
   {
    "duration": 27,
    "start_time": "2024-06-09T05:32:23.477Z"
   },
   {
    "duration": 32,
    "start_time": "2024-06-09T05:32:23.514Z"
   },
   {
    "duration": 74,
    "start_time": "2024-06-09T05:32:23.550Z"
   },
   {
    "duration": 22,
    "start_time": "2024-06-09T05:32:23.627Z"
   },
   {
    "duration": 18,
    "start_time": "2024-06-09T05:32:23.652Z"
   },
   {
    "duration": 316,
    "start_time": "2024-06-09T05:32:23.674Z"
   },
   {
    "duration": 35,
    "start_time": "2024-06-09T05:32:23.993Z"
   },
   {
    "duration": 309,
    "start_time": "2024-06-09T05:32:24.032Z"
   },
   {
    "duration": 265,
    "start_time": "2024-06-09T05:32:24.348Z"
   },
   {
    "duration": 68,
    "start_time": "2024-06-09T05:32:24.625Z"
   },
   {
    "duration": 54,
    "start_time": "2024-06-09T05:32:24.696Z"
   },
   {
    "duration": 8,
    "start_time": "2024-06-09T05:32:24.754Z"
   },
   {
    "duration": 93,
    "start_time": "2024-06-09T05:32:24.766Z"
   },
   {
    "duration": 63,
    "start_time": "2024-06-09T05:32:24.862Z"
   },
   {
    "duration": 8,
    "start_time": "2024-06-09T05:32:24.928Z"
   },
   {
    "duration": 9,
    "start_time": "2024-06-09T05:32:24.939Z"
   },
   {
    "duration": 8,
    "start_time": "2024-06-09T05:32:24.953Z"
   },
   {
    "duration": 1830,
    "start_time": "2024-06-09T05:32:24.966Z"
   },
   {
    "duration": 1826,
    "start_time": "2024-06-09T05:32:26.799Z"
   },
   {
    "duration": 23,
    "start_time": "2024-06-09T05:32:28.632Z"
   },
   {
    "duration": 38,
    "start_time": "2024-06-09T05:32:28.666Z"
   },
   {
    "duration": 26,
    "start_time": "2024-06-09T05:32:28.713Z"
   },
   {
    "duration": 12,
    "start_time": "2024-06-09T05:32:28.748Z"
   },
   {
    "duration": 16,
    "start_time": "2024-06-09T05:32:28.768Z"
   },
   {
    "duration": 26,
    "start_time": "2024-06-09T05:32:28.790Z"
   },
   {
    "duration": 25,
    "start_time": "2024-06-09T05:32:28.819Z"
   },
   {
    "duration": 50,
    "start_time": "2024-06-09T05:32:28.847Z"
   },
   {
    "duration": 31,
    "start_time": "2024-06-09T05:46:32.252Z"
   },
   {
    "duration": 27,
    "start_time": "2024-06-09T05:46:55.287Z"
   },
   {
    "duration": 12,
    "start_time": "2024-06-09T05:47:04.925Z"
   },
   {
    "duration": 105,
    "start_time": "2024-06-09T05:48:46.089Z"
   },
   {
    "duration": 31,
    "start_time": "2024-06-09T05:49:14.039Z"
   },
   {
    "duration": 112,
    "start_time": "2024-06-09T05:49:42.337Z"
   },
   {
    "duration": 75,
    "start_time": "2024-06-09T05:53:13.913Z"
   },
   {
    "duration": 84,
    "start_time": "2024-06-09T05:54:07.571Z"
   },
   {
    "duration": 445,
    "start_time": "2024-06-09T20:54:48.842Z"
   },
   {
    "duration": 272,
    "start_time": "2024-06-09T20:54:49.290Z"
   },
   {
    "duration": 89,
    "start_time": "2024-06-09T20:54:49.565Z"
   },
   {
    "duration": 1380,
    "start_time": "2024-06-09T20:54:49.658Z"
   },
   {
    "duration": 14,
    "start_time": "2024-06-09T20:54:51.041Z"
   },
   {
    "duration": 14,
    "start_time": "2024-06-09T20:54:51.058Z"
   },
   {
    "duration": 43,
    "start_time": "2024-06-09T20:54:51.074Z"
   },
   {
    "duration": 16,
    "start_time": "2024-06-09T20:54:51.120Z"
   },
   {
    "duration": 68,
    "start_time": "2024-06-09T20:54:51.138Z"
   },
   {
    "duration": 13,
    "start_time": "2024-06-09T20:54:51.212Z"
   },
   {
    "duration": 14,
    "start_time": "2024-06-09T20:54:51.228Z"
   },
   {
    "duration": 195,
    "start_time": "2024-06-09T20:54:51.245Z"
   },
   {
    "duration": 14,
    "start_time": "2024-06-09T20:54:51.443Z"
   },
   {
    "duration": 206,
    "start_time": "2024-06-09T20:54:51.460Z"
   },
   {
    "duration": 168,
    "start_time": "2024-06-09T20:54:51.669Z"
   },
   {
    "duration": 65,
    "start_time": "2024-06-09T20:54:51.841Z"
   },
   {
    "duration": 22,
    "start_time": "2024-06-09T20:54:51.909Z"
   },
   {
    "duration": 7,
    "start_time": "2024-06-09T20:54:51.934Z"
   },
   {
    "duration": 75,
    "start_time": "2024-06-09T20:54:51.944Z"
   },
   {
    "duration": 33,
    "start_time": "2024-06-09T20:54:52.022Z"
   },
   {
    "duration": 7,
    "start_time": "2024-06-09T20:54:52.058Z"
   },
   {
    "duration": 39,
    "start_time": "2024-06-09T20:54:52.068Z"
   },
   {
    "duration": 8,
    "start_time": "2024-06-09T20:54:52.110Z"
   },
   {
    "duration": 1334,
    "start_time": "2024-06-09T20:54:52.121Z"
   },
   {
    "duration": 1319,
    "start_time": "2024-06-09T20:54:53.457Z"
   },
   {
    "duration": 27,
    "start_time": "2024-06-09T20:54:54.779Z"
   },
   {
    "duration": 19,
    "start_time": "2024-06-09T20:54:54.810Z"
   },
   {
    "duration": 17,
    "start_time": "2024-06-09T20:54:54.837Z"
   },
   {
    "duration": 6,
    "start_time": "2024-06-09T20:54:54.858Z"
   },
   {
    "duration": 45,
    "start_time": "2024-06-09T20:54:54.868Z"
   },
   {
    "duration": 13,
    "start_time": "2024-06-09T20:54:54.916Z"
   },
   {
    "duration": 12,
    "start_time": "2024-06-09T20:54:54.932Z"
   },
   {
    "duration": 70,
    "start_time": "2024-06-09T20:54:54.947Z"
   },
   {
    "duration": 29,
    "start_time": "2024-06-09T20:54:55.020Z"
   },
   {
    "duration": 79,
    "start_time": "2024-06-09T20:54:55.053Z"
   },
   {
    "duration": 18,
    "start_time": "2024-06-09T20:54:55.135Z"
   },
   {
    "duration": 140,
    "start_time": "2024-06-09T20:54:55.156Z"
   },
   {
    "duration": 79,
    "start_time": "2024-06-09T20:54:55.299Z"
   },
   {
    "duration": 0,
    "start_time": "2024-06-09T21:05:27.220Z"
   },
   {
    "duration": 332,
    "start_time": "2024-06-09T21:06:12.683Z"
   },
   {
    "duration": 15,
    "start_time": "2024-06-09T21:07:44.195Z"
   },
   {
    "duration": 369,
    "start_time": "2024-06-09T21:07:46.815Z"
   },
   {
    "duration": 8,
    "start_time": "2024-06-09T21:21:00.081Z"
   },
   {
    "duration": 329,
    "start_time": "2024-06-10T14:36:57.248Z"
   },
   {
    "duration": 457,
    "start_time": "2024-06-10T14:37:07.875Z"
   },
   {
    "duration": 528,
    "start_time": "2024-06-10T14:37:08.336Z"
   },
   {
    "duration": 114,
    "start_time": "2024-06-10T14:37:08.868Z"
   },
   {
    "duration": 1489,
    "start_time": "2024-06-10T14:37:08.987Z"
   },
   {
    "duration": 18,
    "start_time": "2024-06-10T14:37:10.479Z"
   },
   {
    "duration": 27,
    "start_time": "2024-06-10T14:37:10.500Z"
   },
   {
    "duration": 25,
    "start_time": "2024-06-10T14:37:10.530Z"
   },
   {
    "duration": 54,
    "start_time": "2024-06-10T14:37:10.559Z"
   },
   {
    "duration": 45,
    "start_time": "2024-06-10T14:37:10.617Z"
   },
   {
    "duration": 14,
    "start_time": "2024-06-10T14:37:10.667Z"
   },
   {
    "duration": 18,
    "start_time": "2024-06-10T14:37:10.712Z"
   },
   {
    "duration": 194,
    "start_time": "2024-06-10T14:37:10.736Z"
   },
   {
    "duration": 21,
    "start_time": "2024-06-10T14:37:10.934Z"
   },
   {
    "duration": 234,
    "start_time": "2024-06-10T14:37:10.963Z"
   },
   {
    "duration": 197,
    "start_time": "2024-06-10T14:37:11.200Z"
   },
   {
    "duration": 73,
    "start_time": "2024-06-10T14:37:11.400Z"
   },
   {
    "duration": 47,
    "start_time": "2024-06-10T14:37:11.478Z"
   },
   {
    "duration": 15,
    "start_time": "2024-06-10T14:37:11.530Z"
   },
   {
    "duration": 73,
    "start_time": "2024-06-10T14:37:11.549Z"
   },
   {
    "duration": 49,
    "start_time": "2024-06-10T14:37:11.625Z"
   },
   {
    "duration": 7,
    "start_time": "2024-06-10T14:37:11.678Z"
   },
   {
    "duration": 7,
    "start_time": "2024-06-10T14:37:11.714Z"
   },
   {
    "duration": 5,
    "start_time": "2024-06-10T14:37:15.475Z"
   },
   {
    "duration": 489,
    "start_time": "2024-06-10T14:38:58.315Z"
   },
   {
    "duration": 218,
    "start_time": "2024-06-10T14:38:58.811Z"
   },
   {
    "duration": 62,
    "start_time": "2024-06-10T14:38:59.032Z"
   },
   {
    "duration": 1272,
    "start_time": "2024-06-10T14:38:59.098Z"
   },
   {
    "duration": 16,
    "start_time": "2024-06-10T14:39:00.374Z"
   },
   {
    "duration": 13,
    "start_time": "2024-06-10T14:39:00.412Z"
   },
   {
    "duration": 17,
    "start_time": "2024-06-10T14:39:00.428Z"
   },
   {
    "duration": 15,
    "start_time": "2024-06-10T14:39:00.449Z"
   },
   {
    "duration": 72,
    "start_time": "2024-06-10T14:39:00.468Z"
   },
   {
    "duration": 16,
    "start_time": "2024-06-10T14:39:00.546Z"
   },
   {
    "duration": 14,
    "start_time": "2024-06-10T14:39:00.566Z"
   },
   {
    "duration": 174,
    "start_time": "2024-06-10T14:39:00.613Z"
   },
   {
    "duration": 24,
    "start_time": "2024-06-10T14:39:00.790Z"
   },
   {
    "duration": 220,
    "start_time": "2024-06-10T14:39:00.817Z"
   },
   {
    "duration": 175,
    "start_time": "2024-06-10T14:39:01.040Z"
   },
   {
    "duration": 49,
    "start_time": "2024-06-10T14:39:01.218Z"
   },
   {
    "duration": 53,
    "start_time": "2024-06-10T14:39:01.270Z"
   },
   {
    "duration": 8,
    "start_time": "2024-06-10T14:39:01.326Z"
   },
   {
    "duration": 45,
    "start_time": "2024-06-10T14:39:01.337Z"
   },
   {
    "duration": 43,
    "start_time": "2024-06-10T14:39:01.413Z"
   },
   {
    "duration": 7,
    "start_time": "2024-06-10T14:39:01.460Z"
   },
   {
    "duration": 8,
    "start_time": "2024-06-10T14:39:01.471Z"
   },
   {
    "duration": 10,
    "start_time": "2024-06-10T14:39:01.520Z"
   },
   {
    "duration": 11,
    "start_time": "2024-06-10T14:39:01.535Z"
   },
   {
    "duration": 1371,
    "start_time": "2024-06-10T14:39:01.550Z"
   },
   {
    "duration": 1389,
    "start_time": "2024-06-10T14:39:02.924Z"
   },
   {
    "duration": 11,
    "start_time": "2024-06-10T14:39:04.316Z"
   },
   {
    "duration": 19,
    "start_time": "2024-06-10T14:39:04.335Z"
   },
   {
    "duration": 55,
    "start_time": "2024-06-10T14:39:04.359Z"
   },
   {
    "duration": 8,
    "start_time": "2024-06-10T14:39:04.416Z"
   },
   {
    "duration": 7,
    "start_time": "2024-06-10T14:39:04.427Z"
   },
   {
    "duration": 14,
    "start_time": "2024-06-10T14:39:04.437Z"
   },
   {
    "duration": 11,
    "start_time": "2024-06-10T14:39:04.454Z"
   },
   {
    "duration": 27,
    "start_time": "2024-06-10T14:39:04.513Z"
   },
   {
    "duration": 30,
    "start_time": "2024-06-10T14:39:04.543Z"
   },
   {
    "duration": 82,
    "start_time": "2024-06-10T14:39:04.576Z"
   },
   {
    "duration": 20,
    "start_time": "2024-06-10T14:39:04.660Z"
   },
   {
    "duration": 147,
    "start_time": "2024-06-10T14:39:04.683Z"
   },
   {
    "duration": 88,
    "start_time": "2024-06-10T14:39:04.833Z"
   },
   {
    "duration": 14,
    "start_time": "2024-06-10T14:39:04.924Z"
   },
   {
    "duration": 4211,
    "start_time": "2024-06-10T14:39:04.940Z"
   },
   {
    "duration": 274,
    "start_time": "2024-06-10T14:39:09.156Z"
   },
   {
    "duration": 305,
    "start_time": "2024-06-10T14:39:09.433Z"
   },
   {
    "duration": 17,
    "start_time": "2024-06-10T14:39:09.741Z"
   },
   {
    "duration": 384,
    "start_time": "2024-06-10T14:39:09.761Z"
   },
   {
    "duration": 85,
    "start_time": "2024-06-10T14:39:10.148Z"
   },
   {
    "duration": 363,
    "start_time": "2024-06-10T14:39:10.236Z"
   },
   {
    "duration": 192,
    "start_time": "2024-06-10T14:39:10.602Z"
   },
   {
    "duration": 459,
    "start_time": "2024-06-10T14:39:10.797Z"
   },
   {
    "duration": 470,
    "start_time": "2024-06-10T14:39:11.262Z"
   },
   {
    "duration": 273,
    "start_time": "2024-06-10T14:39:11.735Z"
   },
   {
    "duration": 219,
    "start_time": "2024-06-10T14:39:12.014Z"
   },
   {
    "duration": 998,
    "start_time": "2024-06-10T14:39:12.236Z"
   },
   {
    "duration": 83,
    "start_time": "2024-06-10T14:39:13.238Z"
   },
   {
    "duration": 155,
    "start_time": "2024-12-29T08:35:10.737Z"
   },
   {
    "duration": 2144,
    "start_time": "2024-12-29T08:42:55.470Z"
   },
   {
    "duration": 169,
    "start_time": "2024-12-29T08:42:57.616Z"
   },
   {
    "duration": 62,
    "start_time": "2024-12-29T08:42:57.787Z"
   },
   {
    "duration": 812,
    "start_time": "2024-12-29T08:42:57.852Z"
   },
   {
    "duration": 11,
    "start_time": "2024-12-29T08:42:58.665Z"
   },
   {
    "duration": 11,
    "start_time": "2024-12-29T08:42:58.678Z"
   },
   {
    "duration": 10,
    "start_time": "2024-12-29T08:42:58.691Z"
   },
   {
    "duration": 9,
    "start_time": "2024-12-29T08:42:58.703Z"
   },
   {
    "duration": 39,
    "start_time": "2024-12-29T08:42:58.713Z"
   },
   {
    "duration": 7,
    "start_time": "2024-12-29T08:42:58.756Z"
   },
   {
    "duration": 7,
    "start_time": "2024-12-29T08:42:58.765Z"
   },
   {
    "duration": 111,
    "start_time": "2024-12-29T08:42:58.774Z"
   },
   {
    "duration": 9,
    "start_time": "2024-12-29T08:42:58.887Z"
   },
   {
    "duration": 115,
    "start_time": "2024-12-29T08:42:58.898Z"
   },
   {
    "duration": 93,
    "start_time": "2024-12-29T08:42:59.014Z"
   },
   {
    "duration": 36,
    "start_time": "2024-12-29T08:42:59.109Z"
   },
   {
    "duration": 12,
    "start_time": "2024-12-29T08:42:59.147Z"
   },
   {
    "duration": 4,
    "start_time": "2024-12-29T08:42:59.161Z"
   },
   {
    "duration": 25,
    "start_time": "2024-12-29T08:42:59.167Z"
   },
   {
    "duration": 46,
    "start_time": "2024-12-29T08:42:59.193Z"
   },
   {
    "duration": 4,
    "start_time": "2024-12-29T08:42:59.241Z"
   },
   {
    "duration": 5,
    "start_time": "2024-12-29T08:42:59.246Z"
   },
   {
    "duration": 4,
    "start_time": "2024-12-29T08:42:59.252Z"
   },
   {
    "duration": 4,
    "start_time": "2024-12-29T08:42:59.258Z"
   },
   {
    "duration": 809,
    "start_time": "2024-12-29T08:42:59.263Z"
   },
   {
    "duration": 774,
    "start_time": "2024-12-29T08:43:00.074Z"
   },
   {
    "duration": 8,
    "start_time": "2024-12-29T08:43:00.850Z"
   },
   {
    "duration": 13,
    "start_time": "2024-12-29T08:43:00.865Z"
   },
   {
    "duration": 10,
    "start_time": "2024-12-29T08:43:00.879Z"
   },
   {
    "duration": 4,
    "start_time": "2024-12-29T08:43:00.891Z"
   },
   {
    "duration": 38,
    "start_time": "2024-12-29T08:43:00.897Z"
   },
   {
    "duration": 9,
    "start_time": "2024-12-29T08:43:00.936Z"
   },
   {
    "duration": 7,
    "start_time": "2024-12-29T08:43:00.947Z"
   },
   {
    "duration": 14,
    "start_time": "2024-12-29T08:43:00.955Z"
   },
   {
    "duration": 17,
    "start_time": "2024-12-29T08:43:00.971Z"
   },
   {
    "duration": 67,
    "start_time": "2024-12-29T08:43:00.990Z"
   },
   {
    "duration": 13,
    "start_time": "2024-12-29T08:43:01.059Z"
   },
   {
    "duration": 79,
    "start_time": "2024-12-29T08:43:01.073Z"
   },
   {
    "duration": 54,
    "start_time": "2024-12-29T08:43:01.154Z"
   },
   {
    "duration": 22,
    "start_time": "2024-12-29T08:43:01.210Z"
   },
   {
    "duration": 156,
    "start_time": "2024-12-29T08:43:01.233Z"
   },
   {
    "duration": 168,
    "start_time": "2024-12-29T08:43:01.390Z"
   },
   {
    "duration": 159,
    "start_time": "2024-12-29T08:43:01.560Z"
   },
   {
    "duration": 14,
    "start_time": "2024-12-29T08:43:01.721Z"
   },
   {
    "duration": 196,
    "start_time": "2024-12-29T08:43:01.737Z"
   },
   {
    "duration": 40,
    "start_time": "2024-12-29T08:43:01.935Z"
   },
   {
    "duration": 157,
    "start_time": "2024-12-29T08:43:01.977Z"
   },
   {
    "duration": 87,
    "start_time": "2024-12-29T08:43:02.136Z"
   },
   {
    "duration": 240,
    "start_time": "2024-12-29T08:43:02.232Z"
   },
   {
    "duration": 236,
    "start_time": "2024-12-29T08:43:02.473Z"
   },
   {
    "duration": 173,
    "start_time": "2024-12-29T08:43:02.711Z"
   },
   {
    "duration": 127,
    "start_time": "2024-12-29T08:43:02.886Z"
   },
   {
    "duration": 447,
    "start_time": "2024-12-29T08:43:03.015Z"
   },
   {
    "duration": 43,
    "start_time": "2024-12-29T08:43:03.463Z"
   }
  ],
  "kernelspec": {
   "display_name": "Python 3 (ipykernel)",
   "language": "python",
   "name": "python3"
  },
  "language_info": {
   "codemirror_mode": {
    "name": "ipython",
    "version": 3
   },
   "file_extension": ".py",
   "mimetype": "text/x-python",
   "name": "python",
   "nbconvert_exporter": "python",
   "pygments_lexer": "ipython3",
   "version": "3.9.19"
  },
  "toc": {
   "base_numbering": 1,
   "nav_menu": {},
   "number_sections": true,
   "sideBar": true,
   "skip_h1_title": true,
   "title_cell": "Table of Contents",
   "title_sidebar": "Contents",
   "toc_cell": false,
   "toc_position": {
    "height": "calc(100% - 180px)",
    "left": "10px",
    "top": "150px",
    "width": "245.983px"
   },
   "toc_section_display": true,
   "toc_window_display": false
  },
  "vscode": {
   "interpreter": {
    "hash": "01a7be9ec63e704a62cefc5fe7a4756944464ee731be31632bdf42a4cb4688cf"
   }
  }
 },
 "nbformat": 4,
 "nbformat_minor": 5
}
